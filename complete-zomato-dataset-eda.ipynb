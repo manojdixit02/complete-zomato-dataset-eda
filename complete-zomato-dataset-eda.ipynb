{
 "cells": [
  {
   "cell_type": "markdown",
   "id": "840800ac",
   "metadata": {
    "papermill": {
     "duration": 0.013134,
     "end_time": "2023-02-09T18:35:46.537830",
     "exception": false,
     "start_time": "2023-02-09T18:35:46.524696",
     "status": "completed"
    },
    "tags": []
   },
   "source": [
    "# <p style=\"background-color:#B0766D;font-family:newtimeroman;color:#FFF9ED;font-size:100%;text-align:center;border-radius:10px 10px;\">Importing Important Libraries</p>"
   ]
  },
  {
   "cell_type": "code",
   "execution_count": 1,
   "id": "55c25552",
   "metadata": {
    "execution": {
     "iopub.execute_input": "2023-02-09T18:35:46.570158Z",
     "iopub.status.busy": "2023-02-09T18:35:46.569193Z",
     "iopub.status.idle": "2023-02-09T18:35:47.753804Z",
     "shell.execute_reply": "2023-02-09T18:35:47.752532Z"
    },
    "papermill": {
     "duration": 1.202911,
     "end_time": "2023-02-09T18:35:47.756821",
     "exception": false,
     "start_time": "2023-02-09T18:35:46.553910",
     "status": "completed"
    },
    "tags": []
   },
   "outputs": [],
   "source": [
    "import numpy as np\n",
    "import pandas as pd\n",
    "import matplotlib.pyplot as plt\n",
    "import seaborn as sns"
   ]
  },
  {
   "cell_type": "markdown",
   "id": "b7487eeb",
   "metadata": {
    "papermill": {
     "duration": 0.014159,
     "end_time": "2023-02-09T18:35:47.867812",
     "exception": false,
     "start_time": "2023-02-09T18:35:47.853653",
     "status": "completed"
    },
    "tags": []
   },
   "source": [
    "Zomato Restaurant contains the following variables:\n",
    "\n",
    "• **Restaurant Id:** Unique id of every restaurant across various cities of the world<br>\n",
    "• **Restaurant Name:** Name of the restaurant<br>\n",
    "• **Country Code:** Country in which restaurant is located<br>\n",
    "• **City:** City in which restaurant is located<br>\n",
    "•**Address:** Address of the restaurant<br>\n",
    "• **Locality:** Location in the city<br>\n",
    "• **Locality Verbose:** Detailed description of the locality<br>\n",
    "• **Longitude:** Longitude coordinate of the restaurant's location<br>\n",
    "• **Latitude:** Latitude coordinate of the restaurant's location<br>\n",
    "• **Cuisines:** Cuisines offered by the restaurant<br>\n",
    "• **Average Cost for two:** Cost for two people in different currencies<br>\n",
    "• **Currency:** Currency of the country<br>\n",
    "• **Has Table booking:** yes/no<br>\n",
    "• **Has Online delivery:** yes/ no<br>\n",
    "• **Is delivering:** yes/ no<br>\n",
    "• **Switch to order menu:** yes/no<br>\n",
    "• **Price range:** range of price of food<br>\n",
    "• **Aggregate Rating:** Average rating out of 5<br>\n",
    "• **Rating color:** depending upon the average rating color<br>\n",
    "• **Rating text:** text on the basis of rating of rating<br>\n",
    "• **Votes:** Number of ratings casted by people<br>"
   ]
  },
  {
   "cell_type": "code",
   "execution_count": 2,
   "id": "78cd873e",
   "metadata": {
    "execution": {
     "iopub.execute_input": "2023-02-09T18:35:47.898222Z",
     "iopub.status.busy": "2023-02-09T18:35:47.897789Z",
     "iopub.status.idle": "2023-02-09T18:35:48.053965Z",
     "shell.execute_reply": "2023-02-09T18:35:48.052493Z"
    },
    "papermill": {
     "duration": 0.175401,
     "end_time": "2023-02-09T18:35:48.057273",
     "exception": false,
     "start_time": "2023-02-09T18:35:47.881872",
     "status": "completed"
    },
    "tags": []
   },
   "outputs": [
    {
     "data": {
      "text/html": [
       "<div>\n",
       "<style scoped>\n",
       "    .dataframe tbody tr th:only-of-type {\n",
       "        vertical-align: middle;\n",
       "    }\n",
       "\n",
       "    .dataframe tbody tr th {\n",
       "        vertical-align: top;\n",
       "    }\n",
       "\n",
       "    .dataframe thead th {\n",
       "        text-align: right;\n",
       "    }\n",
       "</style>\n",
       "<table border=\"1\" class=\"dataframe\">\n",
       "  <thead>\n",
       "    <tr style=\"text-align: right;\">\n",
       "      <th></th>\n",
       "      <th>Restaurant ID</th>\n",
       "      <th>Restaurant Name</th>\n",
       "      <th>Country Code</th>\n",
       "      <th>City</th>\n",
       "      <th>Address</th>\n",
       "      <th>Locality</th>\n",
       "      <th>Locality Verbose</th>\n",
       "      <th>Longitude</th>\n",
       "      <th>Latitude</th>\n",
       "      <th>Cuisines</th>\n",
       "      <th>...</th>\n",
       "      <th>Currency</th>\n",
       "      <th>Has Table booking</th>\n",
       "      <th>Has Online delivery</th>\n",
       "      <th>Is delivering now</th>\n",
       "      <th>Switch to order menu</th>\n",
       "      <th>Price range</th>\n",
       "      <th>Aggregate rating</th>\n",
       "      <th>Rating color</th>\n",
       "      <th>Rating text</th>\n",
       "      <th>Votes</th>\n",
       "    </tr>\n",
       "  </thead>\n",
       "  <tbody>\n",
       "    <tr>\n",
       "      <th>0</th>\n",
       "      <td>6317637</td>\n",
       "      <td>Le Petit Souffle</td>\n",
       "      <td>162</td>\n",
       "      <td>Makati City</td>\n",
       "      <td>Third Floor, Century City Mall, Kalayaan Avenu...</td>\n",
       "      <td>Century City Mall, Poblacion, Makati City</td>\n",
       "      <td>Century City Mall, Poblacion, Makati City, Mak...</td>\n",
       "      <td>121.027535</td>\n",
       "      <td>14.565443</td>\n",
       "      <td>French, Japanese, Desserts</td>\n",
       "      <td>...</td>\n",
       "      <td>Botswana Pula(P)</td>\n",
       "      <td>Yes</td>\n",
       "      <td>No</td>\n",
       "      <td>No</td>\n",
       "      <td>No</td>\n",
       "      <td>3</td>\n",
       "      <td>4.8</td>\n",
       "      <td>Dark Green</td>\n",
       "      <td>Excellent</td>\n",
       "      <td>314</td>\n",
       "    </tr>\n",
       "    <tr>\n",
       "      <th>1</th>\n",
       "      <td>6304287</td>\n",
       "      <td>Izakaya Kikufuji</td>\n",
       "      <td>162</td>\n",
       "      <td>Makati City</td>\n",
       "      <td>Little Tokyo, 2277 Chino Roces Avenue, Legaspi...</td>\n",
       "      <td>Little Tokyo, Legaspi Village, Makati City</td>\n",
       "      <td>Little Tokyo, Legaspi Village, Makati City, Ma...</td>\n",
       "      <td>121.014101</td>\n",
       "      <td>14.553708</td>\n",
       "      <td>Japanese</td>\n",
       "      <td>...</td>\n",
       "      <td>Botswana Pula(P)</td>\n",
       "      <td>Yes</td>\n",
       "      <td>No</td>\n",
       "      <td>No</td>\n",
       "      <td>No</td>\n",
       "      <td>3</td>\n",
       "      <td>4.5</td>\n",
       "      <td>Dark Green</td>\n",
       "      <td>Excellent</td>\n",
       "      <td>591</td>\n",
       "    </tr>\n",
       "    <tr>\n",
       "      <th>2</th>\n",
       "      <td>6300002</td>\n",
       "      <td>Heat - Edsa Shangri-La</td>\n",
       "      <td>162</td>\n",
       "      <td>Mandaluyong City</td>\n",
       "      <td>Edsa Shangri-La, 1 Garden Way, Ortigas, Mandal...</td>\n",
       "      <td>Edsa Shangri-La, Ortigas, Mandaluyong City</td>\n",
       "      <td>Edsa Shangri-La, Ortigas, Mandaluyong City, Ma...</td>\n",
       "      <td>121.056831</td>\n",
       "      <td>14.581404</td>\n",
       "      <td>Seafood, Asian, Filipino, Indian</td>\n",
       "      <td>...</td>\n",
       "      <td>Botswana Pula(P)</td>\n",
       "      <td>Yes</td>\n",
       "      <td>No</td>\n",
       "      <td>No</td>\n",
       "      <td>No</td>\n",
       "      <td>4</td>\n",
       "      <td>4.4</td>\n",
       "      <td>Green</td>\n",
       "      <td>Very Good</td>\n",
       "      <td>270</td>\n",
       "    </tr>\n",
       "    <tr>\n",
       "      <th>3</th>\n",
       "      <td>6318506</td>\n",
       "      <td>Ooma</td>\n",
       "      <td>162</td>\n",
       "      <td>Mandaluyong City</td>\n",
       "      <td>Third Floor, Mega Fashion Hall, SM Megamall, O...</td>\n",
       "      <td>SM Megamall, Ortigas, Mandaluyong City</td>\n",
       "      <td>SM Megamall, Ortigas, Mandaluyong City, Mandal...</td>\n",
       "      <td>121.056475</td>\n",
       "      <td>14.585318</td>\n",
       "      <td>Japanese, Sushi</td>\n",
       "      <td>...</td>\n",
       "      <td>Botswana Pula(P)</td>\n",
       "      <td>No</td>\n",
       "      <td>No</td>\n",
       "      <td>No</td>\n",
       "      <td>No</td>\n",
       "      <td>4</td>\n",
       "      <td>4.9</td>\n",
       "      <td>Dark Green</td>\n",
       "      <td>Excellent</td>\n",
       "      <td>365</td>\n",
       "    </tr>\n",
       "    <tr>\n",
       "      <th>4</th>\n",
       "      <td>6314302</td>\n",
       "      <td>Sambo Kojin</td>\n",
       "      <td>162</td>\n",
       "      <td>Mandaluyong City</td>\n",
       "      <td>Third Floor, Mega Atrium, SM Megamall, Ortigas...</td>\n",
       "      <td>SM Megamall, Ortigas, Mandaluyong City</td>\n",
       "      <td>SM Megamall, Ortigas, Mandaluyong City, Mandal...</td>\n",
       "      <td>121.057508</td>\n",
       "      <td>14.584450</td>\n",
       "      <td>Japanese, Korean</td>\n",
       "      <td>...</td>\n",
       "      <td>Botswana Pula(P)</td>\n",
       "      <td>Yes</td>\n",
       "      <td>No</td>\n",
       "      <td>No</td>\n",
       "      <td>No</td>\n",
       "      <td>4</td>\n",
       "      <td>4.8</td>\n",
       "      <td>Dark Green</td>\n",
       "      <td>Excellent</td>\n",
       "      <td>229</td>\n",
       "    </tr>\n",
       "  </tbody>\n",
       "</table>\n",
       "<p>5 rows × 21 columns</p>\n",
       "</div>"
      ],
      "text/plain": [
       "   Restaurant ID         Restaurant Name  Country Code              City  \\\n",
       "0        6317637        Le Petit Souffle           162       Makati City   \n",
       "1        6304287        Izakaya Kikufuji           162       Makati City   \n",
       "2        6300002  Heat - Edsa Shangri-La           162  Mandaluyong City   \n",
       "3        6318506                    Ooma           162  Mandaluyong City   \n",
       "4        6314302             Sambo Kojin           162  Mandaluyong City   \n",
       "\n",
       "                                             Address  \\\n",
       "0  Third Floor, Century City Mall, Kalayaan Avenu...   \n",
       "1  Little Tokyo, 2277 Chino Roces Avenue, Legaspi...   \n",
       "2  Edsa Shangri-La, 1 Garden Way, Ortigas, Mandal...   \n",
       "3  Third Floor, Mega Fashion Hall, SM Megamall, O...   \n",
       "4  Third Floor, Mega Atrium, SM Megamall, Ortigas...   \n",
       "\n",
       "                                     Locality  \\\n",
       "0   Century City Mall, Poblacion, Makati City   \n",
       "1  Little Tokyo, Legaspi Village, Makati City   \n",
       "2  Edsa Shangri-La, Ortigas, Mandaluyong City   \n",
       "3      SM Megamall, Ortigas, Mandaluyong City   \n",
       "4      SM Megamall, Ortigas, Mandaluyong City   \n",
       "\n",
       "                                    Locality Verbose   Longitude   Latitude  \\\n",
       "0  Century City Mall, Poblacion, Makati City, Mak...  121.027535  14.565443   \n",
       "1  Little Tokyo, Legaspi Village, Makati City, Ma...  121.014101  14.553708   \n",
       "2  Edsa Shangri-La, Ortigas, Mandaluyong City, Ma...  121.056831  14.581404   \n",
       "3  SM Megamall, Ortigas, Mandaluyong City, Mandal...  121.056475  14.585318   \n",
       "4  SM Megamall, Ortigas, Mandaluyong City, Mandal...  121.057508  14.584450   \n",
       "\n",
       "                           Cuisines  ...          Currency Has Table booking  \\\n",
       "0        French, Japanese, Desserts  ...  Botswana Pula(P)               Yes   \n",
       "1                          Japanese  ...  Botswana Pula(P)               Yes   \n",
       "2  Seafood, Asian, Filipino, Indian  ...  Botswana Pula(P)               Yes   \n",
       "3                   Japanese, Sushi  ...  Botswana Pula(P)                No   \n",
       "4                  Japanese, Korean  ...  Botswana Pula(P)               Yes   \n",
       "\n",
       "  Has Online delivery Is delivering now Switch to order menu Price range  \\\n",
       "0                  No                No                   No           3   \n",
       "1                  No                No                   No           3   \n",
       "2                  No                No                   No           4   \n",
       "3                  No                No                   No           4   \n",
       "4                  No                No                   No           4   \n",
       "\n",
       "   Aggregate rating  Rating color Rating text Votes  \n",
       "0               4.8    Dark Green   Excellent   314  \n",
       "1               4.5    Dark Green   Excellent   591  \n",
       "2               4.4         Green   Very Good   270  \n",
       "3               4.9    Dark Green   Excellent   365  \n",
       "4               4.8    Dark Green   Excellent   229  \n",
       "\n",
       "[5 rows x 21 columns]"
      ]
     },
     "execution_count": 2,
     "metadata": {},
     "output_type": "execute_result"
    }
   ],
   "source": [
    "df = pd.read_csv('/kaggle/input/zomato-restaurants-data/zomato.csv', encoding ='latin-1')\n",
    "df.head()"
   ]
  },
  {
   "cell_type": "code",
   "execution_count": 3,
   "id": "377aebd3",
   "metadata": {
    "execution": {
     "iopub.execute_input": "2023-02-09T18:35:48.089841Z",
     "iopub.status.busy": "2023-02-09T18:35:48.089443Z",
     "iopub.status.idle": "2023-02-09T18:35:48.097853Z",
     "shell.execute_reply": "2023-02-09T18:35:48.096174Z"
    },
    "papermill": {
     "duration": 0.029529,
     "end_time": "2023-02-09T18:35:48.101230",
     "exception": false,
     "start_time": "2023-02-09T18:35:48.071701",
     "status": "completed"
    },
    "tags": []
   },
   "outputs": [
    {
     "data": {
      "text/plain": [
       "Index(['Restaurant ID', 'Restaurant Name', 'Country Code', 'City', 'Address',\n",
       "       'Locality', 'Locality Verbose', 'Longitude', 'Latitude', 'Cuisines',\n",
       "       'Average Cost for two', 'Currency', 'Has Table booking',\n",
       "       'Has Online delivery', 'Is delivering now', 'Switch to order menu',\n",
       "       'Price range', 'Aggregate rating', 'Rating color', 'Rating text',\n",
       "       'Votes'],\n",
       "      dtype='object')"
      ]
     },
     "execution_count": 3,
     "metadata": {},
     "output_type": "execute_result"
    }
   ],
   "source": [
    "#Knowing my culomns\n",
    "df.columns"
   ]
  },
  {
   "cell_type": "code",
   "execution_count": 4,
   "id": "b8496640",
   "metadata": {
    "execution": {
     "iopub.execute_input": "2023-02-09T18:35:48.135748Z",
     "iopub.status.busy": "2023-02-09T18:35:48.135348Z",
     "iopub.status.idle": "2023-02-09T18:35:48.172305Z",
     "shell.execute_reply": "2023-02-09T18:35:48.170311Z"
    },
    "papermill": {
     "duration": 0.056495,
     "end_time": "2023-02-09T18:35:48.174995",
     "exception": false,
     "start_time": "2023-02-09T18:35:48.118500",
     "status": "completed"
    },
    "tags": []
   },
   "outputs": [
    {
     "name": "stdout",
     "output_type": "stream",
     "text": [
      "<class 'pandas.core.frame.DataFrame'>\n",
      "RangeIndex: 9551 entries, 0 to 9550\n",
      "Data columns (total 21 columns):\n",
      " #   Column                Non-Null Count  Dtype  \n",
      "---  ------                --------------  -----  \n",
      " 0   Restaurant ID         9551 non-null   int64  \n",
      " 1   Restaurant Name       9551 non-null   object \n",
      " 2   Country Code          9551 non-null   int64  \n",
      " 3   City                  9551 non-null   object \n",
      " 4   Address               9551 non-null   object \n",
      " 5   Locality              9551 non-null   object \n",
      " 6   Locality Verbose      9551 non-null   object \n",
      " 7   Longitude             9551 non-null   float64\n",
      " 8   Latitude              9551 non-null   float64\n",
      " 9   Cuisines              9542 non-null   object \n",
      " 10  Average Cost for two  9551 non-null   int64  \n",
      " 11  Currency              9551 non-null   object \n",
      " 12  Has Table booking     9551 non-null   object \n",
      " 13  Has Online delivery   9551 non-null   object \n",
      " 14  Is delivering now     9551 non-null   object \n",
      " 15  Switch to order menu  9551 non-null   object \n",
      " 16  Price range           9551 non-null   int64  \n",
      " 17  Aggregate rating      9551 non-null   float64\n",
      " 18  Rating color          9551 non-null   object \n",
      " 19  Rating text           9551 non-null   object \n",
      " 20  Votes                 9551 non-null   int64  \n",
      "dtypes: float64(3), int64(5), object(13)\n",
      "memory usage: 1.5+ MB\n"
     ]
    }
   ],
   "source": [
    "# you can find data type by info\n",
    "# Object: Categorical\n",
    "df.info()"
   ]
  },
  {
   "cell_type": "code",
   "execution_count": 5,
   "id": "ae09818a",
   "metadata": {
    "execution": {
     "iopub.execute_input": "2023-02-09T18:35:48.209825Z",
     "iopub.status.busy": "2023-02-09T18:35:48.209431Z",
     "iopub.status.idle": "2023-02-09T18:35:48.253619Z",
     "shell.execute_reply": "2023-02-09T18:35:48.252129Z"
    },
    "papermill": {
     "duration": 0.066301,
     "end_time": "2023-02-09T18:35:48.257214",
     "exception": false,
     "start_time": "2023-02-09T18:35:48.190913",
     "status": "completed"
    },
    "tags": []
   },
   "outputs": [
    {
     "data": {
      "text/html": [
       "<div>\n",
       "<style scoped>\n",
       "    .dataframe tbody tr th:only-of-type {\n",
       "        vertical-align: middle;\n",
       "    }\n",
       "\n",
       "    .dataframe tbody tr th {\n",
       "        vertical-align: top;\n",
       "    }\n",
       "\n",
       "    .dataframe thead th {\n",
       "        text-align: right;\n",
       "    }\n",
       "</style>\n",
       "<table border=\"1\" class=\"dataframe\">\n",
       "  <thead>\n",
       "    <tr style=\"text-align: right;\">\n",
       "      <th></th>\n",
       "      <th>Restaurant ID</th>\n",
       "      <th>Country Code</th>\n",
       "      <th>Longitude</th>\n",
       "      <th>Latitude</th>\n",
       "      <th>Average Cost for two</th>\n",
       "      <th>Price range</th>\n",
       "      <th>Aggregate rating</th>\n",
       "      <th>Votes</th>\n",
       "    </tr>\n",
       "  </thead>\n",
       "  <tbody>\n",
       "    <tr>\n",
       "      <th>count</th>\n",
       "      <td>9.551000e+03</td>\n",
       "      <td>9551.000000</td>\n",
       "      <td>9551.000000</td>\n",
       "      <td>9551.000000</td>\n",
       "      <td>9551.000000</td>\n",
       "      <td>9551.000000</td>\n",
       "      <td>9551.000000</td>\n",
       "      <td>9551.000000</td>\n",
       "    </tr>\n",
       "    <tr>\n",
       "      <th>mean</th>\n",
       "      <td>9.051128e+06</td>\n",
       "      <td>18.365616</td>\n",
       "      <td>64.126574</td>\n",
       "      <td>25.854381</td>\n",
       "      <td>1199.210763</td>\n",
       "      <td>1.804837</td>\n",
       "      <td>2.666370</td>\n",
       "      <td>156.909748</td>\n",
       "    </tr>\n",
       "    <tr>\n",
       "      <th>std</th>\n",
       "      <td>8.791521e+06</td>\n",
       "      <td>56.750546</td>\n",
       "      <td>41.467058</td>\n",
       "      <td>11.007935</td>\n",
       "      <td>16121.183073</td>\n",
       "      <td>0.905609</td>\n",
       "      <td>1.516378</td>\n",
       "      <td>430.169145</td>\n",
       "    </tr>\n",
       "    <tr>\n",
       "      <th>min</th>\n",
       "      <td>5.300000e+01</td>\n",
       "      <td>1.000000</td>\n",
       "      <td>-157.948486</td>\n",
       "      <td>-41.330428</td>\n",
       "      <td>0.000000</td>\n",
       "      <td>1.000000</td>\n",
       "      <td>0.000000</td>\n",
       "      <td>0.000000</td>\n",
       "    </tr>\n",
       "    <tr>\n",
       "      <th>25%</th>\n",
       "      <td>3.019625e+05</td>\n",
       "      <td>1.000000</td>\n",
       "      <td>77.081343</td>\n",
       "      <td>28.478713</td>\n",
       "      <td>250.000000</td>\n",
       "      <td>1.000000</td>\n",
       "      <td>2.500000</td>\n",
       "      <td>5.000000</td>\n",
       "    </tr>\n",
       "    <tr>\n",
       "      <th>50%</th>\n",
       "      <td>6.004089e+06</td>\n",
       "      <td>1.000000</td>\n",
       "      <td>77.191964</td>\n",
       "      <td>28.570469</td>\n",
       "      <td>400.000000</td>\n",
       "      <td>2.000000</td>\n",
       "      <td>3.200000</td>\n",
       "      <td>31.000000</td>\n",
       "    </tr>\n",
       "    <tr>\n",
       "      <th>75%</th>\n",
       "      <td>1.835229e+07</td>\n",
       "      <td>1.000000</td>\n",
       "      <td>77.282006</td>\n",
       "      <td>28.642758</td>\n",
       "      <td>700.000000</td>\n",
       "      <td>2.000000</td>\n",
       "      <td>3.700000</td>\n",
       "      <td>131.000000</td>\n",
       "    </tr>\n",
       "    <tr>\n",
       "      <th>max</th>\n",
       "      <td>1.850065e+07</td>\n",
       "      <td>216.000000</td>\n",
       "      <td>174.832089</td>\n",
       "      <td>55.976980</td>\n",
       "      <td>800000.000000</td>\n",
       "      <td>4.000000</td>\n",
       "      <td>4.900000</td>\n",
       "      <td>10934.000000</td>\n",
       "    </tr>\n",
       "  </tbody>\n",
       "</table>\n",
       "</div>"
      ],
      "text/plain": [
       "       Restaurant ID  Country Code    Longitude     Latitude  \\\n",
       "count   9.551000e+03   9551.000000  9551.000000  9551.000000   \n",
       "mean    9.051128e+06     18.365616    64.126574    25.854381   \n",
       "std     8.791521e+06     56.750546    41.467058    11.007935   \n",
       "min     5.300000e+01      1.000000  -157.948486   -41.330428   \n",
       "25%     3.019625e+05      1.000000    77.081343    28.478713   \n",
       "50%     6.004089e+06      1.000000    77.191964    28.570469   \n",
       "75%     1.835229e+07      1.000000    77.282006    28.642758   \n",
       "max     1.850065e+07    216.000000   174.832089    55.976980   \n",
       "\n",
       "       Average Cost for two  Price range  Aggregate rating         Votes  \n",
       "count           9551.000000  9551.000000       9551.000000   9551.000000  \n",
       "mean            1199.210763     1.804837          2.666370    156.909748  \n",
       "std            16121.183073     0.905609          1.516378    430.169145  \n",
       "min                0.000000     1.000000          0.000000      0.000000  \n",
       "25%              250.000000     1.000000          2.500000      5.000000  \n",
       "50%              400.000000     2.000000          3.200000     31.000000  \n",
       "75%              700.000000     2.000000          3.700000    131.000000  \n",
       "max           800000.000000     4.000000          4.900000  10934.000000  "
      ]
     },
     "execution_count": 5,
     "metadata": {},
     "output_type": "execute_result"
    }
   ],
   "source": [
    "# Review descriptive data\n",
    "df.describe()"
   ]
  },
  {
   "cell_type": "markdown",
   "id": "22e5b329",
   "metadata": {
    "papermill": {
     "duration": 0.014243,
     "end_time": "2023-02-09T18:35:48.286214",
     "exception": false,
     "start_time": "2023-02-09T18:35:48.271971",
     "status": "completed"
    },
    "tags": []
   },
   "source": [
    "Lets go to find out the number of observations and columns of Zomato Restaurant Dataset."
   ]
  },
  {
   "cell_type": "markdown",
   "id": "15d66848",
   "metadata": {
    "papermill": {
     "duration": 0.014144,
     "end_time": "2023-02-09T18:35:48.315710",
     "exception": false,
     "start_time": "2023-02-09T18:35:48.301566",
     "status": "completed"
    },
    "tags": []
   },
   "source": [
    "# In Data Analysis we do:\n",
    "1. Missing Values\n",
    "2. Explore about Numerical Valuables\n",
    "3. Explore about Categorical valuables\n",
    "4. Finding Relationship Between  Features"
   ]
  },
  {
   "cell_type": "code",
   "execution_count": 6,
   "id": "148218e0",
   "metadata": {
    "execution": {
     "iopub.execute_input": "2023-02-09T18:35:48.346963Z",
     "iopub.status.busy": "2023-02-09T18:35:48.346572Z",
     "iopub.status.idle": "2023-02-09T18:35:48.354755Z",
     "shell.execute_reply": "2023-02-09T18:35:48.353315Z"
    },
    "papermill": {
     "duration": 0.027064,
     "end_time": "2023-02-09T18:35:48.357396",
     "exception": false,
     "start_time": "2023-02-09T18:35:48.330332",
     "status": "completed"
    },
    "tags": []
   },
   "outputs": [
    {
     "data": {
      "text/plain": [
       "(9551, 21)"
      ]
     },
     "execution_count": 6,
     "metadata": {},
     "output_type": "execute_result"
    }
   ],
   "source": [
    "df.shape"
   ]
  },
  {
   "cell_type": "code",
   "execution_count": 7,
   "id": "c2eeae32",
   "metadata": {
    "execution": {
     "iopub.execute_input": "2023-02-09T18:35:48.390209Z",
     "iopub.status.busy": "2023-02-09T18:35:48.389833Z",
     "iopub.status.idle": "2023-02-09T18:35:48.406975Z",
     "shell.execute_reply": "2023-02-09T18:35:48.405522Z"
    },
    "papermill": {
     "duration": 0.036523,
     "end_time": "2023-02-09T18:35:48.409736",
     "exception": false,
     "start_time": "2023-02-09T18:35:48.373213",
     "status": "completed"
    },
    "tags": []
   },
   "outputs": [
    {
     "data": {
      "text/plain": [
       "Restaurant ID           0\n",
       "Restaurant Name         0\n",
       "Country Code            0\n",
       "City                    0\n",
       "Address                 0\n",
       "Locality                0\n",
       "Locality Verbose        0\n",
       "Longitude               0\n",
       "Latitude                0\n",
       "Cuisines                9\n",
       "Average Cost for two    0\n",
       "Currency                0\n",
       "Has Table booking       0\n",
       "Has Online delivery     0\n",
       "Is delivering now       0\n",
       "Switch to order menu    0\n",
       "Price range             0\n",
       "Aggregate rating        0\n",
       "Rating color            0\n",
       "Rating text             0\n",
       "Votes                   0\n",
       "dtype: int64"
      ]
     },
     "execution_count": 7,
     "metadata": {},
     "output_type": "execute_result"
    }
   ],
   "source": [
    "df.isnull().sum()"
   ]
  },
  {
   "cell_type": "code",
   "execution_count": 8,
   "id": "1f53cd62",
   "metadata": {
    "execution": {
     "iopub.execute_input": "2023-02-09T18:35:48.443822Z",
     "iopub.status.busy": "2023-02-09T18:35:48.442709Z",
     "iopub.status.idle": "2023-02-09T18:35:48.462161Z",
     "shell.execute_reply": "2023-02-09T18:35:48.461185Z"
    },
    "papermill": {
     "duration": 0.038886,
     "end_time": "2023-02-09T18:35:48.464487",
     "exception": false,
     "start_time": "2023-02-09T18:35:48.425601",
     "status": "completed"
    },
    "tags": []
   },
   "outputs": [
    {
     "data": {
      "text/plain": [
       "['Cuisines']"
      ]
     },
     "execution_count": 8,
     "metadata": {},
     "output_type": "execute_result"
    }
   ],
   "source": [
    "[features for features in df.columns if df[features].isnull().sum()>0]"
   ]
  },
  {
   "cell_type": "code",
   "execution_count": 9,
   "id": "5c1efb05",
   "metadata": {
    "execution": {
     "iopub.execute_input": "2023-02-09T18:35:48.497380Z",
     "iopub.status.busy": "2023-02-09T18:35:48.496629Z",
     "iopub.status.idle": "2023-02-09T18:35:49.042640Z",
     "shell.execute_reply": "2023-02-09T18:35:49.041179Z"
    },
    "papermill": {
     "duration": 0.566095,
     "end_time": "2023-02-09T18:35:49.045975",
     "exception": false,
     "start_time": "2023-02-09T18:35:48.479880",
     "status": "completed"
    },
    "tags": []
   },
   "outputs": [
    {
     "data": {
      "text/plain": [
       "<AxesSubplot:>"
      ]
     },
     "execution_count": 9,
     "metadata": {},
     "output_type": "execute_result"
    },
    {
     "data": {
      "image/png": "[encoded data removed]",
      "text/plain": [
       "<Figure size 864x432 with 1 Axes>"
      ]
     },
     "metadata": {
      "needs_background": "light"
     },
     "output_type": "display_data"
    }
   ],
   "source": [
    "import matplotlib\n",
    "matplotlib.rcParams['figure.figsize']=(12,6)\n",
    "sns.heatmap(df.isnull(), yticklabels =False, cbar=False, cmap= 'viridis')"
   ]
  },
  {
   "cell_type": "markdown",
   "id": "51fb3ba7",
   "metadata": {
    "papermill": {
     "duration": 0.015277,
     "end_time": "2023-02-09T18:35:49.077636",
     "exception": false,
     "start_time": "2023-02-09T18:35:49.062359",
     "status": "completed"
    },
    "tags": []
   },
   "source": [
    "#### The value between in 9551 is too small so did not show in heatmap"
   ]
  },
  {
   "cell_type": "code",
   "execution_count": 10,
   "id": "737e7cc1",
   "metadata": {
    "execution": {
     "iopub.execute_input": "2023-02-09T18:35:49.111368Z",
     "iopub.status.busy": "2023-02-09T18:35:49.110848Z",
     "iopub.status.idle": "2023-02-09T18:35:49.549756Z",
     "shell.execute_reply": "2023-02-09T18:35:49.548073Z"
    },
    "papermill": {
     "duration": 0.459535,
     "end_time": "2023-02-09T18:35:49.552727",
     "exception": false,
     "start_time": "2023-02-09T18:35:49.093192",
     "status": "completed"
    },
    "tags": []
   },
   "outputs": [
    {
     "data": {
      "text/html": [
       "<div>\n",
       "<style scoped>\n",
       "    .dataframe tbody tr th:only-of-type {\n",
       "        vertical-align: middle;\n",
       "    }\n",
       "\n",
       "    .dataframe tbody tr th {\n",
       "        vertical-align: top;\n",
       "    }\n",
       "\n",
       "    .dataframe thead th {\n",
       "        text-align: right;\n",
       "    }\n",
       "</style>\n",
       "<table border=\"1\" class=\"dataframe\">\n",
       "  <thead>\n",
       "    <tr style=\"text-align: right;\">\n",
       "      <th></th>\n",
       "      <th>Country Code</th>\n",
       "      <th>Country</th>\n",
       "    </tr>\n",
       "  </thead>\n",
       "  <tbody>\n",
       "    <tr>\n",
       "      <th>0</th>\n",
       "      <td>1</td>\n",
       "      <td>India</td>\n",
       "    </tr>\n",
       "    <tr>\n",
       "      <th>1</th>\n",
       "      <td>14</td>\n",
       "      <td>Australia</td>\n",
       "    </tr>\n",
       "    <tr>\n",
       "      <th>2</th>\n",
       "      <td>30</td>\n",
       "      <td>Brazil</td>\n",
       "    </tr>\n",
       "    <tr>\n",
       "      <th>3</th>\n",
       "      <td>37</td>\n",
       "      <td>Canada</td>\n",
       "    </tr>\n",
       "    <tr>\n",
       "      <th>4</th>\n",
       "      <td>94</td>\n",
       "      <td>Indonesia</td>\n",
       "    </tr>\n",
       "  </tbody>\n",
       "</table>\n",
       "</div>"
      ],
      "text/plain": [
       "   Country Code    Country\n",
       "0             1      India\n",
       "1            14  Australia\n",
       "2            30     Brazil\n",
       "3            37     Canada\n",
       "4            94  Indonesia"
      ]
     },
     "execution_count": 10,
     "metadata": {},
     "output_type": "execute_result"
    }
   ],
   "source": [
    "df_country = pd.read_excel('/kaggle/input/zomato-restaurants-data/Country-Code.xlsx')\n",
    "df_country.head()"
   ]
  },
  {
   "cell_type": "code",
   "execution_count": 11,
   "id": "625f0df8",
   "metadata": {
    "execution": {
     "iopub.execute_input": "2023-02-09T18:35:49.587212Z",
     "iopub.status.busy": "2023-02-09T18:35:49.586444Z",
     "iopub.status.idle": "2023-02-09T18:35:49.594660Z",
     "shell.execute_reply": "2023-02-09T18:35:49.593696Z"
    },
    "papermill": {
     "duration": 0.028029,
     "end_time": "2023-02-09T18:35:49.596918",
     "exception": false,
     "start_time": "2023-02-09T18:35:49.568889",
     "status": "completed"
    },
    "tags": []
   },
   "outputs": [
    {
     "data": {
      "text/plain": [
       "Index(['Restaurant ID', 'Restaurant Name', 'Country Code', 'City', 'Address',\n",
       "       'Locality', 'Locality Verbose', 'Longitude', 'Latitude', 'Cuisines',\n",
       "       'Average Cost for two', 'Currency', 'Has Table booking',\n",
       "       'Has Online delivery', 'Is delivering now', 'Switch to order menu',\n",
       "       'Price range', 'Aggregate rating', 'Rating color', 'Rating text',\n",
       "       'Votes'],\n",
       "      dtype='object')"
      ]
     },
     "execution_count": 11,
     "metadata": {},
     "output_type": "execute_result"
    }
   ],
   "source": [
    "df.columns"
   ]
  },
  {
   "cell_type": "markdown",
   "id": "8193c7e8",
   "metadata": {
    "papermill": {
     "duration": 0.015473,
     "end_time": "2023-02-09T18:35:49.628151",
     "exception": false,
     "start_time": "2023-02-09T18:35:49.612678",
     "status": "completed"
    },
    "tags": []
   },
   "source": [
    "## At the moment I merge df, df_country where their country code are the same"
   ]
  },
  {
   "cell_type": "code",
   "execution_count": 12,
   "id": "93bc2c4b",
   "metadata": {
    "execution": {
     "iopub.execute_input": "2023-02-09T18:35:49.662859Z",
     "iopub.status.busy": "2023-02-09T18:35:49.661392Z",
     "iopub.status.idle": "2023-02-09T18:35:49.714672Z",
     "shell.execute_reply": "2023-02-09T18:35:49.713724Z"
    },
    "papermill": {
     "duration": 0.072622,
     "end_time": "2023-02-09T18:35:49.716772",
     "exception": false,
     "start_time": "2023-02-09T18:35:49.644150",
     "status": "completed"
    },
    "tags": []
   },
   "outputs": [
    {
     "data": {
      "text/html": [
       "<div>\n",
       "<style scoped>\n",
       "    .dataframe tbody tr th:only-of-type {\n",
       "        vertical-align: middle;\n",
       "    }\n",
       "\n",
       "    .dataframe tbody tr th {\n",
       "        vertical-align: top;\n",
       "    }\n",
       "\n",
       "    .dataframe thead th {\n",
       "        text-align: right;\n",
       "    }\n",
       "</style>\n",
       "<table border=\"1\" class=\"dataframe\">\n",
       "  <thead>\n",
       "    <tr style=\"text-align: right;\">\n",
       "      <th></th>\n",
       "      <th>Restaurant ID</th>\n",
       "      <th>Restaurant Name</th>\n",
       "      <th>Country Code</th>\n",
       "      <th>City</th>\n",
       "      <th>Address</th>\n",
       "      <th>Locality</th>\n",
       "      <th>Locality Verbose</th>\n",
       "      <th>Longitude</th>\n",
       "      <th>Latitude</th>\n",
       "      <th>Cuisines</th>\n",
       "      <th>...</th>\n",
       "      <th>Has Table booking</th>\n",
       "      <th>Has Online delivery</th>\n",
       "      <th>Is delivering now</th>\n",
       "      <th>Switch to order menu</th>\n",
       "      <th>Price range</th>\n",
       "      <th>Aggregate rating</th>\n",
       "      <th>Rating color</th>\n",
       "      <th>Rating text</th>\n",
       "      <th>Votes</th>\n",
       "      <th>Country</th>\n",
       "    </tr>\n",
       "  </thead>\n",
       "  <tbody>\n",
       "    <tr>\n",
       "      <th>0</th>\n",
       "      <td>6317637</td>\n",
       "      <td>Le Petit Souffle</td>\n",
       "      <td>162</td>\n",
       "      <td>Makati City</td>\n",
       "      <td>Third Floor, Century City Mall, Kalayaan Avenu...</td>\n",
       "      <td>Century City Mall, Poblacion, Makati City</td>\n",
       "      <td>Century City Mall, Poblacion, Makati City, Mak...</td>\n",
       "      <td>121.027535</td>\n",
       "      <td>14.565443</td>\n",
       "      <td>French, Japanese, Desserts</td>\n",
       "      <td>...</td>\n",
       "      <td>Yes</td>\n",
       "      <td>No</td>\n",
       "      <td>No</td>\n",
       "      <td>No</td>\n",
       "      <td>3</td>\n",
       "      <td>4.8</td>\n",
       "      <td>Dark Green</td>\n",
       "      <td>Excellent</td>\n",
       "      <td>314</td>\n",
       "      <td>Phillipines</td>\n",
       "    </tr>\n",
       "    <tr>\n",
       "      <th>1</th>\n",
       "      <td>6304287</td>\n",
       "      <td>Izakaya Kikufuji</td>\n",
       "      <td>162</td>\n",
       "      <td>Makati City</td>\n",
       "      <td>Little Tokyo, 2277 Chino Roces Avenue, Legaspi...</td>\n",
       "      <td>Little Tokyo, Legaspi Village, Makati City</td>\n",
       "      <td>Little Tokyo, Legaspi Village, Makati City, Ma...</td>\n",
       "      <td>121.014101</td>\n",
       "      <td>14.553708</td>\n",
       "      <td>Japanese</td>\n",
       "      <td>...</td>\n",
       "      <td>Yes</td>\n",
       "      <td>No</td>\n",
       "      <td>No</td>\n",
       "      <td>No</td>\n",
       "      <td>3</td>\n",
       "      <td>4.5</td>\n",
       "      <td>Dark Green</td>\n",
       "      <td>Excellent</td>\n",
       "      <td>591</td>\n",
       "      <td>Phillipines</td>\n",
       "    </tr>\n",
       "  </tbody>\n",
       "</table>\n",
       "<p>2 rows × 22 columns</p>\n",
       "</div>"
      ],
      "text/plain": [
       "   Restaurant ID   Restaurant Name  Country Code         City  \\\n",
       "0        6317637  Le Petit Souffle           162  Makati City   \n",
       "1        6304287  Izakaya Kikufuji           162  Makati City   \n",
       "\n",
       "                                             Address  \\\n",
       "0  Third Floor, Century City Mall, Kalayaan Avenu...   \n",
       "1  Little Tokyo, 2277 Chino Roces Avenue, Legaspi...   \n",
       "\n",
       "                                     Locality  \\\n",
       "0   Century City Mall, Poblacion, Makati City   \n",
       "1  Little Tokyo, Legaspi Village, Makati City   \n",
       "\n",
       "                                    Locality Verbose   Longitude   Latitude  \\\n",
       "0  Century City Mall, Poblacion, Makati City, Mak...  121.027535  14.565443   \n",
       "1  Little Tokyo, Legaspi Village, Makati City, Ma...  121.014101  14.553708   \n",
       "\n",
       "                     Cuisines  ...  Has Table booking Has Online delivery  \\\n",
       "0  French, Japanese, Desserts  ...                Yes                  No   \n",
       "1                    Japanese  ...                Yes                  No   \n",
       "\n",
       "  Is delivering now Switch to order menu Price range Aggregate rating  \\\n",
       "0                No                   No           3              4.8   \n",
       "1                No                   No           3              4.5   \n",
       "\n",
       "   Rating color  Rating text Votes      Country  \n",
       "0    Dark Green    Excellent   314  Phillipines  \n",
       "1    Dark Green    Excellent   591  Phillipines  \n",
       "\n",
       "[2 rows x 22 columns]"
      ]
     },
     "execution_count": 12,
     "metadata": {},
     "output_type": "execute_result"
    }
   ],
   "source": [
    "Final_df=pd.merge(df, df_country, on= 'Country Code', how= 'left')\n",
    "Final_df.head(2)"
   ]
  },
  {
   "cell_type": "markdown",
   "id": "c38f8a7d",
   "metadata": {
    "execution": {
     "iopub.execute_input": "2023-02-06T12:25:05.402106Z",
     "iopub.status.busy": "2023-02-06T12:25:05.401685Z",
     "iopub.status.idle": "2023-02-06T12:25:05.407578Z",
     "shell.execute_reply": "2023-02-06T12:25:05.406211Z",
     "shell.execute_reply.started": "2023-02-06T12:25:05.402073Z"
    },
    "papermill": {
     "duration": 0.015873,
     "end_time": "2023-02-09T18:35:49.748793",
     "exception": false,
     "start_time": "2023-02-09T18:35:49.732920",
     "status": "completed"
    },
    "tags": []
   },
   "source": [
    "### At this step we want to know data types:"
   ]
  },
  {
   "cell_type": "code",
   "execution_count": 13,
   "id": "172f010b",
   "metadata": {
    "execution": {
     "iopub.execute_input": "2023-02-09T18:35:49.783865Z",
     "iopub.status.busy": "2023-02-09T18:35:49.782256Z",
     "iopub.status.idle": "2023-02-09T18:35:49.793851Z",
     "shell.execute_reply": "2023-02-09T18:35:49.792316Z"
    },
    "papermill": {
     "duration": 0.031566,
     "end_time": "2023-02-09T18:35:49.796417",
     "exception": false,
     "start_time": "2023-02-09T18:35:49.764851",
     "status": "completed"
    },
    "tags": []
   },
   "outputs": [
    {
     "data": {
      "text/plain": [
       "Restaurant ID             int64\n",
       "Restaurant Name          object\n",
       "Country Code              int64\n",
       "City                     object\n",
       "Address                  object\n",
       "Locality                 object\n",
       "Locality Verbose         object\n",
       "Longitude               float64\n",
       "Latitude                float64\n",
       "Cuisines                 object\n",
       "Average Cost for two      int64\n",
       "Currency                 object\n",
       "Has Table booking        object\n",
       "Has Online delivery      object\n",
       "Is delivering now        object\n",
       "Switch to order menu     object\n",
       "Price range               int64\n",
       "Aggregate rating        float64\n",
       "Rating color             object\n",
       "Rating text              object\n",
       "Votes                     int64\n",
       "Country                  object\n",
       "dtype: object"
      ]
     },
     "execution_count": 13,
     "metadata": {},
     "output_type": "execute_result"
    }
   ],
   "source": [
    "Final_df.dtypes"
   ]
  },
  {
   "cell_type": "code",
   "execution_count": 14,
   "id": "33750a04",
   "metadata": {
    "execution": {
     "iopub.execute_input": "2023-02-09T18:35:49.831946Z",
     "iopub.status.busy": "2023-02-09T18:35:49.831546Z",
     "iopub.status.idle": "2023-02-09T18:35:49.842235Z",
     "shell.execute_reply": "2023-02-09T18:35:49.840374Z"
    },
    "papermill": {
     "duration": 0.031069,
     "end_time": "2023-02-09T18:35:49.844705",
     "exception": false,
     "start_time": "2023-02-09T18:35:49.813636",
     "status": "completed"
    },
    "tags": []
   },
   "outputs": [
    {
     "name": "stdout",
     "output_type": "stream",
     "text": [
      "Here, there is a list of Zomato country:\n",
      "Phillipines\n",
      "Brazil\n",
      "United States\n",
      "Australia\n",
      "Canada\n",
      "Singapore\n",
      "UAE\n",
      "India\n",
      "Indonesia\n",
      "New Zealand\n",
      "United Kingdom\n",
      "Qatar\n",
      "South Africa\n",
      "Sri Lanka\n",
      "Turkey\n",
      "Total number of countries is: 15\n"
     ]
    }
   ],
   "source": [
    "print('Here, there is a list of Zomato country:')\n",
    "for i in pd.unique(Final_df.Country): print(i)\n",
    "print('Total number of countries is:', len(pd.unique(Final_df.Country)))"
   ]
  },
  {
   "cell_type": "markdown",
   "id": "a97ccbfe",
   "metadata": {
    "execution": {
     "iopub.execute_input": "2023-02-06T12:27:30.762250Z",
     "iopub.status.busy": "2023-02-06T12:27:30.761791Z",
     "iopub.status.idle": "2023-02-06T12:27:30.767841Z",
     "shell.execute_reply": "2023-02-06T12:27:30.766750Z",
     "shell.execute_reply.started": "2023-02-06T12:27:30.762210Z"
    },
    "papermill": {
     "duration": 0.0161,
     "end_time": "2023-02-09T18:35:49.877282",
     "exception": false,
     "start_time": "2023-02-09T18:35:49.861182",
     "status": "completed"
    },
    "tags": []
   },
   "source": [
    "### Lets go to Explorer Dataset, Lets pick up something\n",
    " ##### How many countries are there?"
   ]
  },
  {
   "cell_type": "code",
   "execution_count": 15,
   "id": "78ddec15",
   "metadata": {
    "execution": {
     "iopub.execute_input": "2023-02-09T18:35:49.912737Z",
     "iopub.status.busy": "2023-02-09T18:35:49.912269Z",
     "iopub.status.idle": "2023-02-09T18:35:49.921696Z",
     "shell.execute_reply": "2023-02-09T18:35:49.920314Z"
    },
    "papermill": {
     "duration": 0.030498,
     "end_time": "2023-02-09T18:35:49.924333",
     "exception": false,
     "start_time": "2023-02-09T18:35:49.893835",
     "status": "completed"
    },
    "tags": []
   },
   "outputs": [
    {
     "data": {
      "text/plain": [
       "Index(['Restaurant ID', 'Restaurant Name', 'Country Code', 'City', 'Address',\n",
       "       'Locality', 'Locality Verbose', 'Longitude', 'Latitude', 'Cuisines',\n",
       "       'Average Cost for two', 'Currency', 'Has Table booking',\n",
       "       'Has Online delivery', 'Is delivering now', 'Switch to order menu',\n",
       "       'Price range', 'Aggregate rating', 'Rating color', 'Rating text',\n",
       "       'Votes', 'Country'],\n",
       "      dtype='object')"
      ]
     },
     "execution_count": 15,
     "metadata": {},
     "output_type": "execute_result"
    }
   ],
   "source": [
    "Final_df.columns"
   ]
  },
  {
   "cell_type": "code",
   "execution_count": 16,
   "id": "be180a64",
   "metadata": {
    "execution": {
     "iopub.execute_input": "2023-02-09T18:35:49.958851Z",
     "iopub.status.busy": "2023-02-09T18:35:49.958460Z",
     "iopub.status.idle": "2023-02-09T18:35:49.969003Z",
     "shell.execute_reply": "2023-02-09T18:35:49.967704Z"
    },
    "papermill": {
     "duration": 0.030519,
     "end_time": "2023-02-09T18:35:49.971541",
     "exception": false,
     "start_time": "2023-02-09T18:35:49.941022",
     "status": "completed"
    },
    "tags": []
   },
   "outputs": [
    {
     "data": {
      "text/plain": [
       "India             8652\n",
       "United States      434\n",
       "United Kingdom      80\n",
       "Brazil              60\n",
       "UAE                 60\n",
       "South Africa        60\n",
       "New Zealand         40\n",
       "Turkey              34\n",
       "Australia           24\n",
       "Phillipines         22\n",
       "Indonesia           21\n",
       "Singapore           20\n",
       "Qatar               20\n",
       "Sri Lanka           20\n",
       "Canada               4\n",
       "Name: Country, dtype: int64"
      ]
     },
     "execution_count": 16,
     "metadata": {},
     "output_type": "execute_result"
    }
   ],
   "source": [
    "Final_df.Country.value_counts()"
   ]
  },
  {
   "cell_type": "markdown",
   "id": "a027d176",
   "metadata": {
    "papermill": {
     "duration": 0.016375,
     "end_time": "2023-02-09T18:35:50.004616",
     "exception": false,
     "start_time": "2023-02-09T18:35:49.988241",
     "status": "completed"
    },
    "tags": []
   },
   "source": [
    "### Maximum Transaction happen in India by 8652"
   ]
  },
  {
   "cell_type": "code",
   "execution_count": 17,
   "id": "76ef2e4e",
   "metadata": {
    "execution": {
     "iopub.execute_input": "2023-02-09T18:35:50.039849Z",
     "iopub.status.busy": "2023-02-09T18:35:50.039460Z",
     "iopub.status.idle": "2023-02-09T18:35:50.049166Z",
     "shell.execute_reply": "2023-02-09T18:35:50.048013Z"
    },
    "papermill": {
     "duration": 0.030701,
     "end_time": "2023-02-09T18:35:50.052154",
     "exception": false,
     "start_time": "2023-02-09T18:35:50.021453",
     "status": "completed"
    },
    "tags": []
   },
   "outputs": [
    {
     "data": {
      "text/plain": [
       "Index(['India', 'United States', 'United Kingdom', 'Brazil', 'UAE',\n",
       "       'South Africa', 'New Zealand', 'Turkey', 'Australia', 'Phillipines',\n",
       "       'Indonesia', 'Singapore', 'Qatar', 'Sri Lanka', 'Canada'],\n",
       "      dtype='object')"
      ]
     },
     "execution_count": 17,
     "metadata": {},
     "output_type": "execute_result"
    }
   ],
   "source": [
    "Final_df.Country.value_counts().index"
   ]
  },
  {
   "cell_type": "code",
   "execution_count": 18,
   "id": "30d3a865",
   "metadata": {
    "execution": {
     "iopub.execute_input": "2023-02-09T18:35:50.089834Z",
     "iopub.status.busy": "2023-02-09T18:35:50.088933Z",
     "iopub.status.idle": "2023-02-09T18:35:50.098313Z",
     "shell.execute_reply": "2023-02-09T18:35:50.097198Z"
    },
    "papermill": {
     "duration": 0.030439,
     "end_time": "2023-02-09T18:35:50.100609",
     "exception": false,
     "start_time": "2023-02-09T18:35:50.070170",
     "status": "completed"
    },
    "tags": []
   },
   "outputs": [
    {
     "data": {
      "text/plain": [
       "Index(['India', 'United States', 'United Kingdom', 'Brazil', 'UAE',\n",
       "       'South Africa', 'New Zealand', 'Turkey', 'Australia', 'Phillipines',\n",
       "       'Indonesia', 'Singapore', 'Qatar', 'Sri Lanka', 'Canada'],\n",
       "      dtype='object')"
      ]
     },
     "execution_count": 18,
     "metadata": {},
     "output_type": "execute_result"
    }
   ],
   "source": [
    "country_name = Final_df.Country.value_counts().index\n",
    "country_name "
   ]
  },
  {
   "cell_type": "code",
   "execution_count": 19,
   "id": "041a2c90",
   "metadata": {
    "execution": {
     "iopub.execute_input": "2023-02-09T18:35:50.137382Z",
     "iopub.status.busy": "2023-02-09T18:35:50.136749Z",
     "iopub.status.idle": "2023-02-09T18:35:50.145840Z",
     "shell.execute_reply": "2023-02-09T18:35:50.144559Z"
    },
    "papermill": {
     "duration": 0.031151,
     "end_time": "2023-02-09T18:35:50.148573",
     "exception": false,
     "start_time": "2023-02-09T18:35:50.117422",
     "status": "completed"
    },
    "tags": []
   },
   "outputs": [
    {
     "data": {
      "text/plain": [
       "array([8652,  434,   80,   60,   60,   60,   40,   34,   24,   22,   21,\n",
       "         20,   20,   20,    4])"
      ]
     },
     "execution_count": 19,
     "metadata": {},
     "output_type": "execute_result"
    }
   ],
   "source": [
    "country_val = Final_df.Country.value_counts().values\n",
    "country_val"
   ]
  },
  {
   "cell_type": "markdown",
   "id": "bcf15c69",
   "metadata": {
    "papermill": {
     "duration": 0.016755,
     "end_time": "2023-02-09T18:35:50.182516",
     "exception": false,
     "start_time": "2023-02-09T18:35:50.165761",
     "status": "completed"
    },
    "tags": []
   },
   "source": [
    "### Lets do some Plots"
   ]
  },
  {
   "cell_type": "markdown",
   "id": "0d82c29e",
   "metadata": {
    "papermill": {
     "duration": 0.017614,
     "end_time": "2023-02-09T18:35:50.217754",
     "exception": false,
     "start_time": "2023-02-09T18:35:50.200140",
     "status": "completed"
    },
    "tags": []
   },
   "source": [
    "### 1- Top 3 Countries that uses Zomato"
   ]
  },
  {
   "cell_type": "code",
   "execution_count": 20,
   "id": "8ecddd80",
   "metadata": {
    "execution": {
     "iopub.execute_input": "2023-02-09T18:35:50.254333Z",
     "iopub.status.busy": "2023-02-09T18:35:50.253713Z",
     "iopub.status.idle": "2023-02-09T18:35:50.403200Z",
     "shell.execute_reply": "2023-02-09T18:35:50.401530Z"
    },
    "papermill": {
     "duration": 0.172844,
     "end_time": "2023-02-09T18:35:50.407794",
     "exception": false,
     "start_time": "2023-02-09T18:35:50.234950",
     "status": "completed"
    },
    "tags": []
   },
   "outputs": [
    {
     "data": {
      "image/png": "[encoded data removed]",
      "text/plain": [
       "<Figure size 864x432 with 1 Axes>"
      ]
     },
     "metadata": {},
     "output_type": "display_data"
    }
   ],
   "source": [
    "plt.pie(country_val[:3], labels=country_name[:3],autopct ='%1.2f%%');"
   ]
  },
  {
   "cell_type": "markdown",
   "id": "01352eff",
   "metadata": {
    "execution": {
     "iopub.execute_input": "2023-02-06T13:03:02.724432Z",
     "iopub.status.busy": "2023-02-06T13:03:02.723177Z",
     "iopub.status.idle": "2023-02-06T13:03:02.728911Z",
     "shell.execute_reply": "2023-02-06T13:03:02.727948Z",
     "shell.execute_reply.started": "2023-02-06T13:03:02.724385Z"
    },
    "papermill": {
     "duration": 0.023483,
     "end_time": "2023-02-09T18:35:50.475641",
     "exception": false,
     "start_time": "2023-02-09T18:35:50.452158",
     "status": "completed"
    },
    "tags": []
   },
   "source": [
    "##### Observation:Zomato Maximum Records are from India After that USA and then United Kingdom"
   ]
  },
  {
   "cell_type": "markdown",
   "id": "1344d16b",
   "metadata": {
    "papermill": {
     "duration": 0.017084,
     "end_time": "2023-02-09T18:35:50.510036",
     "exception": false,
     "start_time": "2023-02-09T18:35:50.492952",
     "status": "completed"
    },
    "tags": []
   },
   "source": [
    "##### How many Variable Are there?\n"
   ]
  },
  {
   "cell_type": "code",
   "execution_count": 21,
   "id": "8f0fb702",
   "metadata": {
    "execution": {
     "iopub.execute_input": "2023-02-09T18:35:50.546942Z",
     "iopub.status.busy": "2023-02-09T18:35:50.546342Z",
     "iopub.status.idle": "2023-02-09T18:35:50.552712Z",
     "shell.execute_reply": "2023-02-09T18:35:50.551629Z"
    },
    "papermill": {
     "duration": 0.027634,
     "end_time": "2023-02-09T18:35:50.555155",
     "exception": false,
     "start_time": "2023-02-09T18:35:50.527521",
     "status": "completed"
    },
    "tags": []
   },
   "outputs": [
    {
     "data": {
      "text/plain": [
       "Index(['Restaurant ID', 'Restaurant Name', 'Country Code', 'City', 'Address',\n",
       "       'Locality', 'Locality Verbose', 'Longitude', 'Latitude', 'Cuisines',\n",
       "       'Average Cost for two', 'Currency', 'Has Table booking',\n",
       "       'Has Online delivery', 'Is delivering now', 'Switch to order menu',\n",
       "       'Price range', 'Aggregate rating', 'Rating color', 'Rating text',\n",
       "       'Votes', 'Country'],\n",
       "      dtype='object')"
      ]
     },
     "execution_count": 21,
     "metadata": {},
     "output_type": "execute_result"
    }
   ],
   "source": [
    "Final_df.columns"
   ]
  },
  {
   "cell_type": "code",
   "execution_count": 22,
   "id": "02a0bce4",
   "metadata": {
    "execution": {
     "iopub.execute_input": "2023-02-09T18:35:50.594670Z",
     "iopub.status.busy": "2023-02-09T18:35:50.594211Z",
     "iopub.status.idle": "2023-02-09T18:35:50.614370Z",
     "shell.execute_reply": "2023-02-09T18:35:50.612981Z"
    },
    "papermill": {
     "duration": 0.044245,
     "end_time": "2023-02-09T18:35:50.617338",
     "exception": false,
     "start_time": "2023-02-09T18:35:50.573093",
     "status": "completed"
    },
    "tags": []
   },
   "outputs": [
    {
     "data": {
      "text/plain": [
       "Aggregate rating  Rating color  Rating text\n",
       "0.0               White         Not rated      2148\n",
       "1.8               Red           Poor              1\n",
       "1.9               Red           Poor              2\n",
       "2.0               Red           Poor              7\n",
       "2.1               Red           Poor             15\n",
       "2.2               Red           Poor             27\n",
       "2.3               Red           Poor             47\n",
       "2.4               Red           Poor             87\n",
       "2.5               Orange        Average         110\n",
       "2.6               Orange        Average         191\n",
       "2.7               Orange        Average         250\n",
       "2.8               Orange        Average         315\n",
       "2.9               Orange        Average         381\n",
       "3.0               Orange        Average         468\n",
       "3.1               Orange        Average         519\n",
       "3.2               Orange        Average         522\n",
       "3.3               Orange        Average         483\n",
       "3.4               Orange        Average         498\n",
       "3.5               Yellow        Good            480\n",
       "3.6               Yellow        Good            458\n",
       "3.7               Yellow        Good            427\n",
       "3.8               Yellow        Good            400\n",
       "3.9               Yellow        Good            335\n",
       "4.0               Green         Very Good       266\n",
       "4.1               Green         Very Good       274\n",
       "4.2               Green         Very Good       221\n",
       "4.3               Green         Very Good       174\n",
       "4.4               Green         Very Good       144\n",
       "4.5               Dark Green    Excellent        95\n",
       "4.6               Dark Green    Excellent        78\n",
       "4.7               Dark Green    Excellent        42\n",
       "4.8               Dark Green    Excellent        25\n",
       "4.9               Dark Green    Excellent        61\n",
       "dtype: int64"
      ]
     },
     "execution_count": 22,
     "metadata": {},
     "output_type": "execute_result"
    }
   ],
   "source": [
    "Final_df.groupby(['Aggregate rating','Rating color','Rating text']).size()"
   ]
  },
  {
   "cell_type": "code",
   "execution_count": 23,
   "id": "289cf8c9",
   "metadata": {
    "execution": {
     "iopub.execute_input": "2023-02-09T18:35:50.654920Z",
     "iopub.status.busy": "2023-02-09T18:35:50.654511Z",
     "iopub.status.idle": "2023-02-09T18:35:50.679111Z",
     "shell.execute_reply": "2023-02-09T18:35:50.678133Z"
    },
    "papermill": {
     "duration": 0.046294,
     "end_time": "2023-02-09T18:35:50.681517",
     "exception": false,
     "start_time": "2023-02-09T18:35:50.635223",
     "status": "completed"
    },
    "tags": []
   },
   "outputs": [
    {
     "data": {
      "text/html": [
       "<div>\n",
       "<style scoped>\n",
       "    .dataframe tbody tr th:only-of-type {\n",
       "        vertical-align: middle;\n",
       "    }\n",
       "\n",
       "    .dataframe tbody tr th {\n",
       "        vertical-align: top;\n",
       "    }\n",
       "\n",
       "    .dataframe thead th {\n",
       "        text-align: right;\n",
       "    }\n",
       "</style>\n",
       "<table border=\"1\" class=\"dataframe\">\n",
       "  <thead>\n",
       "    <tr style=\"text-align: right;\">\n",
       "      <th></th>\n",
       "      <th>Aggregate rating</th>\n",
       "      <th>Rating color</th>\n",
       "      <th>Rating text</th>\n",
       "      <th>0</th>\n",
       "    </tr>\n",
       "  </thead>\n",
       "  <tbody>\n",
       "    <tr>\n",
       "      <th>0</th>\n",
       "      <td>0.0</td>\n",
       "      <td>White</td>\n",
       "      <td>Not rated</td>\n",
       "      <td>2148</td>\n",
       "    </tr>\n",
       "    <tr>\n",
       "      <th>1</th>\n",
       "      <td>1.8</td>\n",
       "      <td>Red</td>\n",
       "      <td>Poor</td>\n",
       "      <td>1</td>\n",
       "    </tr>\n",
       "    <tr>\n",
       "      <th>2</th>\n",
       "      <td>1.9</td>\n",
       "      <td>Red</td>\n",
       "      <td>Poor</td>\n",
       "      <td>2</td>\n",
       "    </tr>\n",
       "    <tr>\n",
       "      <th>3</th>\n",
       "      <td>2.0</td>\n",
       "      <td>Red</td>\n",
       "      <td>Poor</td>\n",
       "      <td>7</td>\n",
       "    </tr>\n",
       "    <tr>\n",
       "      <th>4</th>\n",
       "      <td>2.1</td>\n",
       "      <td>Red</td>\n",
       "      <td>Poor</td>\n",
       "      <td>15</td>\n",
       "    </tr>\n",
       "    <tr>\n",
       "      <th>5</th>\n",
       "      <td>2.2</td>\n",
       "      <td>Red</td>\n",
       "      <td>Poor</td>\n",
       "      <td>27</td>\n",
       "    </tr>\n",
       "    <tr>\n",
       "      <th>6</th>\n",
       "      <td>2.3</td>\n",
       "      <td>Red</td>\n",
       "      <td>Poor</td>\n",
       "      <td>47</td>\n",
       "    </tr>\n",
       "    <tr>\n",
       "      <th>7</th>\n",
       "      <td>2.4</td>\n",
       "      <td>Red</td>\n",
       "      <td>Poor</td>\n",
       "      <td>87</td>\n",
       "    </tr>\n",
       "    <tr>\n",
       "      <th>8</th>\n",
       "      <td>2.5</td>\n",
       "      <td>Orange</td>\n",
       "      <td>Average</td>\n",
       "      <td>110</td>\n",
       "    </tr>\n",
       "    <tr>\n",
       "      <th>9</th>\n",
       "      <td>2.6</td>\n",
       "      <td>Orange</td>\n",
       "      <td>Average</td>\n",
       "      <td>191</td>\n",
       "    </tr>\n",
       "    <tr>\n",
       "      <th>10</th>\n",
       "      <td>2.7</td>\n",
       "      <td>Orange</td>\n",
       "      <td>Average</td>\n",
       "      <td>250</td>\n",
       "    </tr>\n",
       "    <tr>\n",
       "      <th>11</th>\n",
       "      <td>2.8</td>\n",
       "      <td>Orange</td>\n",
       "      <td>Average</td>\n",
       "      <td>315</td>\n",
       "    </tr>\n",
       "    <tr>\n",
       "      <th>12</th>\n",
       "      <td>2.9</td>\n",
       "      <td>Orange</td>\n",
       "      <td>Average</td>\n",
       "      <td>381</td>\n",
       "    </tr>\n",
       "    <tr>\n",
       "      <th>13</th>\n",
       "      <td>3.0</td>\n",
       "      <td>Orange</td>\n",
       "      <td>Average</td>\n",
       "      <td>468</td>\n",
       "    </tr>\n",
       "    <tr>\n",
       "      <th>14</th>\n",
       "      <td>3.1</td>\n",
       "      <td>Orange</td>\n",
       "      <td>Average</td>\n",
       "      <td>519</td>\n",
       "    </tr>\n",
       "    <tr>\n",
       "      <th>15</th>\n",
       "      <td>3.2</td>\n",
       "      <td>Orange</td>\n",
       "      <td>Average</td>\n",
       "      <td>522</td>\n",
       "    </tr>\n",
       "    <tr>\n",
       "      <th>16</th>\n",
       "      <td>3.3</td>\n",
       "      <td>Orange</td>\n",
       "      <td>Average</td>\n",
       "      <td>483</td>\n",
       "    </tr>\n",
       "    <tr>\n",
       "      <th>17</th>\n",
       "      <td>3.4</td>\n",
       "      <td>Orange</td>\n",
       "      <td>Average</td>\n",
       "      <td>498</td>\n",
       "    </tr>\n",
       "    <tr>\n",
       "      <th>18</th>\n",
       "      <td>3.5</td>\n",
       "      <td>Yellow</td>\n",
       "      <td>Good</td>\n",
       "      <td>480</td>\n",
       "    </tr>\n",
       "    <tr>\n",
       "      <th>19</th>\n",
       "      <td>3.6</td>\n",
       "      <td>Yellow</td>\n",
       "      <td>Good</td>\n",
       "      <td>458</td>\n",
       "    </tr>\n",
       "    <tr>\n",
       "      <th>20</th>\n",
       "      <td>3.7</td>\n",
       "      <td>Yellow</td>\n",
       "      <td>Good</td>\n",
       "      <td>427</td>\n",
       "    </tr>\n",
       "    <tr>\n",
       "      <th>21</th>\n",
       "      <td>3.8</td>\n",
       "      <td>Yellow</td>\n",
       "      <td>Good</td>\n",
       "      <td>400</td>\n",
       "    </tr>\n",
       "    <tr>\n",
       "      <th>22</th>\n",
       "      <td>3.9</td>\n",
       "      <td>Yellow</td>\n",
       "      <td>Good</td>\n",
       "      <td>335</td>\n",
       "    </tr>\n",
       "    <tr>\n",
       "      <th>23</th>\n",
       "      <td>4.0</td>\n",
       "      <td>Green</td>\n",
       "      <td>Very Good</td>\n",
       "      <td>266</td>\n",
       "    </tr>\n",
       "    <tr>\n",
       "      <th>24</th>\n",
       "      <td>4.1</td>\n",
       "      <td>Green</td>\n",
       "      <td>Very Good</td>\n",
       "      <td>274</td>\n",
       "    </tr>\n",
       "    <tr>\n",
       "      <th>25</th>\n",
       "      <td>4.2</td>\n",
       "      <td>Green</td>\n",
       "      <td>Very Good</td>\n",
       "      <td>221</td>\n",
       "    </tr>\n",
       "    <tr>\n",
       "      <th>26</th>\n",
       "      <td>4.3</td>\n",
       "      <td>Green</td>\n",
       "      <td>Very Good</td>\n",
       "      <td>174</td>\n",
       "    </tr>\n",
       "    <tr>\n",
       "      <th>27</th>\n",
       "      <td>4.4</td>\n",
       "      <td>Green</td>\n",
       "      <td>Very Good</td>\n",
       "      <td>144</td>\n",
       "    </tr>\n",
       "    <tr>\n",
       "      <th>28</th>\n",
       "      <td>4.5</td>\n",
       "      <td>Dark Green</td>\n",
       "      <td>Excellent</td>\n",
       "      <td>95</td>\n",
       "    </tr>\n",
       "    <tr>\n",
       "      <th>29</th>\n",
       "      <td>4.6</td>\n",
       "      <td>Dark Green</td>\n",
       "      <td>Excellent</td>\n",
       "      <td>78</td>\n",
       "    </tr>\n",
       "    <tr>\n",
       "      <th>30</th>\n",
       "      <td>4.7</td>\n",
       "      <td>Dark Green</td>\n",
       "      <td>Excellent</td>\n",
       "      <td>42</td>\n",
       "    </tr>\n",
       "    <tr>\n",
       "      <th>31</th>\n",
       "      <td>4.8</td>\n",
       "      <td>Dark Green</td>\n",
       "      <td>Excellent</td>\n",
       "      <td>25</td>\n",
       "    </tr>\n",
       "    <tr>\n",
       "      <th>32</th>\n",
       "      <td>4.9</td>\n",
       "      <td>Dark Green</td>\n",
       "      <td>Excellent</td>\n",
       "      <td>61</td>\n",
       "    </tr>\n",
       "  </tbody>\n",
       "</table>\n",
       "</div>"
      ],
      "text/plain": [
       "    Aggregate rating Rating color Rating text     0\n",
       "0                0.0        White   Not rated  2148\n",
       "1                1.8          Red        Poor     1\n",
       "2                1.9          Red        Poor     2\n",
       "3                2.0          Red        Poor     7\n",
       "4                2.1          Red        Poor    15\n",
       "5                2.2          Red        Poor    27\n",
       "6                2.3          Red        Poor    47\n",
       "7                2.4          Red        Poor    87\n",
       "8                2.5       Orange     Average   110\n",
       "9                2.6       Orange     Average   191\n",
       "10               2.7       Orange     Average   250\n",
       "11               2.8       Orange     Average   315\n",
       "12               2.9       Orange     Average   381\n",
       "13               3.0       Orange     Average   468\n",
       "14               3.1       Orange     Average   519\n",
       "15               3.2       Orange     Average   522\n",
       "16               3.3       Orange     Average   483\n",
       "17               3.4       Orange     Average   498\n",
       "18               3.5       Yellow        Good   480\n",
       "19               3.6       Yellow        Good   458\n",
       "20               3.7       Yellow        Good   427\n",
       "21               3.8       Yellow        Good   400\n",
       "22               3.9       Yellow        Good   335\n",
       "23               4.0        Green   Very Good   266\n",
       "24               4.1        Green   Very Good   274\n",
       "25               4.2        Green   Very Good   221\n",
       "26               4.3        Green   Very Good   174\n",
       "27               4.4        Green   Very Good   144\n",
       "28               4.5   Dark Green   Excellent    95\n",
       "29               4.6   Dark Green   Excellent    78\n",
       "30               4.7   Dark Green   Excellent    42\n",
       "31               4.8   Dark Green   Excellent    25\n",
       "32               4.9   Dark Green   Excellent    61"
      ]
     },
     "execution_count": 23,
     "metadata": {},
     "output_type": "execute_result"
    }
   ],
   "source": [
    "Final_df.groupby(['Aggregate rating','Rating color','Rating text']).size().reset_index()"
   ]
  },
  {
   "cell_type": "code",
   "execution_count": 24,
   "id": "8777f49e",
   "metadata": {
    "execution": {
     "iopub.execute_input": "2023-02-09T18:35:50.721197Z",
     "iopub.status.busy": "2023-02-09T18:35:50.719694Z",
     "iopub.status.idle": "2023-02-09T18:35:50.744557Z",
     "shell.execute_reply": "2023-02-09T18:35:50.743359Z"
    },
    "papermill": {
     "duration": 0.047176,
     "end_time": "2023-02-09T18:35:50.746980",
     "exception": false,
     "start_time": "2023-02-09T18:35:50.699804",
     "status": "completed"
    },
    "tags": []
   },
   "outputs": [
    {
     "data": {
      "text/html": [
       "<div>\n",
       "<style scoped>\n",
       "    .dataframe tbody tr th:only-of-type {\n",
       "        vertical-align: middle;\n",
       "    }\n",
       "\n",
       "    .dataframe tbody tr th {\n",
       "        vertical-align: top;\n",
       "    }\n",
       "\n",
       "    .dataframe thead th {\n",
       "        text-align: right;\n",
       "    }\n",
       "</style>\n",
       "<table border=\"1\" class=\"dataframe\">\n",
       "  <thead>\n",
       "    <tr style=\"text-align: right;\">\n",
       "      <th></th>\n",
       "      <th>Aggregate rating</th>\n",
       "      <th>Rating color</th>\n",
       "      <th>Rating text</th>\n",
       "      <th>Rating Count</th>\n",
       "    </tr>\n",
       "  </thead>\n",
       "  <tbody>\n",
       "    <tr>\n",
       "      <th>0</th>\n",
       "      <td>0.0</td>\n",
       "      <td>White</td>\n",
       "      <td>Not rated</td>\n",
       "      <td>2148</td>\n",
       "    </tr>\n",
       "    <tr>\n",
       "      <th>1</th>\n",
       "      <td>1.8</td>\n",
       "      <td>Red</td>\n",
       "      <td>Poor</td>\n",
       "      <td>1</td>\n",
       "    </tr>\n",
       "    <tr>\n",
       "      <th>2</th>\n",
       "      <td>1.9</td>\n",
       "      <td>Red</td>\n",
       "      <td>Poor</td>\n",
       "      <td>2</td>\n",
       "    </tr>\n",
       "    <tr>\n",
       "      <th>3</th>\n",
       "      <td>2.0</td>\n",
       "      <td>Red</td>\n",
       "      <td>Poor</td>\n",
       "      <td>7</td>\n",
       "    </tr>\n",
       "    <tr>\n",
       "      <th>4</th>\n",
       "      <td>2.1</td>\n",
       "      <td>Red</td>\n",
       "      <td>Poor</td>\n",
       "      <td>15</td>\n",
       "    </tr>\n",
       "    <tr>\n",
       "      <th>5</th>\n",
       "      <td>2.2</td>\n",
       "      <td>Red</td>\n",
       "      <td>Poor</td>\n",
       "      <td>27</td>\n",
       "    </tr>\n",
       "    <tr>\n",
       "      <th>6</th>\n",
       "      <td>2.3</td>\n",
       "      <td>Red</td>\n",
       "      <td>Poor</td>\n",
       "      <td>47</td>\n",
       "    </tr>\n",
       "    <tr>\n",
       "      <th>7</th>\n",
       "      <td>2.4</td>\n",
       "      <td>Red</td>\n",
       "      <td>Poor</td>\n",
       "      <td>87</td>\n",
       "    </tr>\n",
       "    <tr>\n",
       "      <th>8</th>\n",
       "      <td>2.5</td>\n",
       "      <td>Orange</td>\n",
       "      <td>Average</td>\n",
       "      <td>110</td>\n",
       "    </tr>\n",
       "    <tr>\n",
       "      <th>9</th>\n",
       "      <td>2.6</td>\n",
       "      <td>Orange</td>\n",
       "      <td>Average</td>\n",
       "      <td>191</td>\n",
       "    </tr>\n",
       "    <tr>\n",
       "      <th>10</th>\n",
       "      <td>2.7</td>\n",
       "      <td>Orange</td>\n",
       "      <td>Average</td>\n",
       "      <td>250</td>\n",
       "    </tr>\n",
       "    <tr>\n",
       "      <th>11</th>\n",
       "      <td>2.8</td>\n",
       "      <td>Orange</td>\n",
       "      <td>Average</td>\n",
       "      <td>315</td>\n",
       "    </tr>\n",
       "    <tr>\n",
       "      <th>12</th>\n",
       "      <td>2.9</td>\n",
       "      <td>Orange</td>\n",
       "      <td>Average</td>\n",
       "      <td>381</td>\n",
       "    </tr>\n",
       "    <tr>\n",
       "      <th>13</th>\n",
       "      <td>3.0</td>\n",
       "      <td>Orange</td>\n",
       "      <td>Average</td>\n",
       "      <td>468</td>\n",
       "    </tr>\n",
       "    <tr>\n",
       "      <th>14</th>\n",
       "      <td>3.1</td>\n",
       "      <td>Orange</td>\n",
       "      <td>Average</td>\n",
       "      <td>519</td>\n",
       "    </tr>\n",
       "    <tr>\n",
       "      <th>15</th>\n",
       "      <td>3.2</td>\n",
       "      <td>Orange</td>\n",
       "      <td>Average</td>\n",
       "      <td>522</td>\n",
       "    </tr>\n",
       "    <tr>\n",
       "      <th>16</th>\n",
       "      <td>3.3</td>\n",
       "      <td>Orange</td>\n",
       "      <td>Average</td>\n",
       "      <td>483</td>\n",
       "    </tr>\n",
       "    <tr>\n",
       "      <th>17</th>\n",
       "      <td>3.4</td>\n",
       "      <td>Orange</td>\n",
       "      <td>Average</td>\n",
       "      <td>498</td>\n",
       "    </tr>\n",
       "    <tr>\n",
       "      <th>18</th>\n",
       "      <td>3.5</td>\n",
       "      <td>Yellow</td>\n",
       "      <td>Good</td>\n",
       "      <td>480</td>\n",
       "    </tr>\n",
       "    <tr>\n",
       "      <th>19</th>\n",
       "      <td>3.6</td>\n",
       "      <td>Yellow</td>\n",
       "      <td>Good</td>\n",
       "      <td>458</td>\n",
       "    </tr>\n",
       "    <tr>\n",
       "      <th>20</th>\n",
       "      <td>3.7</td>\n",
       "      <td>Yellow</td>\n",
       "      <td>Good</td>\n",
       "      <td>427</td>\n",
       "    </tr>\n",
       "    <tr>\n",
       "      <th>21</th>\n",
       "      <td>3.8</td>\n",
       "      <td>Yellow</td>\n",
       "      <td>Good</td>\n",
       "      <td>400</td>\n",
       "    </tr>\n",
       "    <tr>\n",
       "      <th>22</th>\n",
       "      <td>3.9</td>\n",
       "      <td>Yellow</td>\n",
       "      <td>Good</td>\n",
       "      <td>335</td>\n",
       "    </tr>\n",
       "    <tr>\n",
       "      <th>23</th>\n",
       "      <td>4.0</td>\n",
       "      <td>Green</td>\n",
       "      <td>Very Good</td>\n",
       "      <td>266</td>\n",
       "    </tr>\n",
       "    <tr>\n",
       "      <th>24</th>\n",
       "      <td>4.1</td>\n",
       "      <td>Green</td>\n",
       "      <td>Very Good</td>\n",
       "      <td>274</td>\n",
       "    </tr>\n",
       "    <tr>\n",
       "      <th>25</th>\n",
       "      <td>4.2</td>\n",
       "      <td>Green</td>\n",
       "      <td>Very Good</td>\n",
       "      <td>221</td>\n",
       "    </tr>\n",
       "    <tr>\n",
       "      <th>26</th>\n",
       "      <td>4.3</td>\n",
       "      <td>Green</td>\n",
       "      <td>Very Good</td>\n",
       "      <td>174</td>\n",
       "    </tr>\n",
       "    <tr>\n",
       "      <th>27</th>\n",
       "      <td>4.4</td>\n",
       "      <td>Green</td>\n",
       "      <td>Very Good</td>\n",
       "      <td>144</td>\n",
       "    </tr>\n",
       "    <tr>\n",
       "      <th>28</th>\n",
       "      <td>4.5</td>\n",
       "      <td>Dark Green</td>\n",
       "      <td>Excellent</td>\n",
       "      <td>95</td>\n",
       "    </tr>\n",
       "    <tr>\n",
       "      <th>29</th>\n",
       "      <td>4.6</td>\n",
       "      <td>Dark Green</td>\n",
       "      <td>Excellent</td>\n",
       "      <td>78</td>\n",
       "    </tr>\n",
       "    <tr>\n",
       "      <th>30</th>\n",
       "      <td>4.7</td>\n",
       "      <td>Dark Green</td>\n",
       "      <td>Excellent</td>\n",
       "      <td>42</td>\n",
       "    </tr>\n",
       "    <tr>\n",
       "      <th>31</th>\n",
       "      <td>4.8</td>\n",
       "      <td>Dark Green</td>\n",
       "      <td>Excellent</td>\n",
       "      <td>25</td>\n",
       "    </tr>\n",
       "    <tr>\n",
       "      <th>32</th>\n",
       "      <td>4.9</td>\n",
       "      <td>Dark Green</td>\n",
       "      <td>Excellent</td>\n",
       "      <td>61</td>\n",
       "    </tr>\n",
       "  </tbody>\n",
       "</table>\n",
       "</div>"
      ],
      "text/plain": [
       "    Aggregate rating Rating color Rating text  Rating Count\n",
       "0                0.0        White   Not rated          2148\n",
       "1                1.8          Red        Poor             1\n",
       "2                1.9          Red        Poor             2\n",
       "3                2.0          Red        Poor             7\n",
       "4                2.1          Red        Poor            15\n",
       "5                2.2          Red        Poor            27\n",
       "6                2.3          Red        Poor            47\n",
       "7                2.4          Red        Poor            87\n",
       "8                2.5       Orange     Average           110\n",
       "9                2.6       Orange     Average           191\n",
       "10               2.7       Orange     Average           250\n",
       "11               2.8       Orange     Average           315\n",
       "12               2.9       Orange     Average           381\n",
       "13               3.0       Orange     Average           468\n",
       "14               3.1       Orange     Average           519\n",
       "15               3.2       Orange     Average           522\n",
       "16               3.3       Orange     Average           483\n",
       "17               3.4       Orange     Average           498\n",
       "18               3.5       Yellow        Good           480\n",
       "19               3.6       Yellow        Good           458\n",
       "20               3.7       Yellow        Good           427\n",
       "21               3.8       Yellow        Good           400\n",
       "22               3.9       Yellow        Good           335\n",
       "23               4.0        Green   Very Good           266\n",
       "24               4.1        Green   Very Good           274\n",
       "25               4.2        Green   Very Good           221\n",
       "26               4.3        Green   Very Good           174\n",
       "27               4.4        Green   Very Good           144\n",
       "28               4.5   Dark Green   Excellent            95\n",
       "29               4.6   Dark Green   Excellent            78\n",
       "30               4.7   Dark Green   Excellent            42\n",
       "31               4.8   Dark Green   Excellent            25\n",
       "32               4.9   Dark Green   Excellent            61"
      ]
     },
     "execution_count": 24,
     "metadata": {},
     "output_type": "execute_result"
    }
   ],
   "source": [
    "rating = Final_df.groupby(['Aggregate rating','Rating color','Rating text']).size().reset_index().rename(columns={0:'Rating Count'})\n",
    "rating"
   ]
  },
  {
   "cell_type": "markdown",
   "id": "a01e497f",
   "metadata": {
    "papermill": {
     "duration": 0.017605,
     "end_time": "2023-02-09T18:35:50.783463",
     "exception": false,
     "start_time": "2023-02-09T18:35:50.765858",
     "status": "completed"
    },
    "tags": []
   },
   "source": [
    "#### Observation:\n",
    "When Rating is between 4.5 to 4.9 it means Excellent <br>\n",
    "When Rating is between 4.0 to 4.4 it means Very Good <br>\n",
    "When Rating is between 3.5 to 3.9 it means Good <br>\n",
    "When Rating is between 2.5 to 3.4 it means Average <br>\n",
    "When Rating is between 2.0 to 2.4 it means Poor "
   ]
  },
  {
   "cell_type": "code",
   "execution_count": 25,
   "id": "8701be0c",
   "metadata": {
    "execution": {
     "iopub.execute_input": "2023-02-09T18:35:50.822556Z",
     "iopub.status.busy": "2023-02-09T18:35:50.822045Z",
     "iopub.status.idle": "2023-02-09T18:35:50.835541Z",
     "shell.execute_reply": "2023-02-09T18:35:50.834188Z"
    },
    "papermill": {
     "duration": 0.036415,
     "end_time": "2023-02-09T18:35:50.838059",
     "exception": false,
     "start_time": "2023-02-09T18:35:50.801644",
     "status": "completed"
    },
    "tags": []
   },
   "outputs": [
    {
     "data": {
      "text/html": [
       "<div>\n",
       "<style scoped>\n",
       "    .dataframe tbody tr th:only-of-type {\n",
       "        vertical-align: middle;\n",
       "    }\n",
       "\n",
       "    .dataframe tbody tr th {\n",
       "        vertical-align: top;\n",
       "    }\n",
       "\n",
       "    .dataframe thead th {\n",
       "        text-align: right;\n",
       "    }\n",
       "</style>\n",
       "<table border=\"1\" class=\"dataframe\">\n",
       "  <thead>\n",
       "    <tr style=\"text-align: right;\">\n",
       "      <th></th>\n",
       "      <th>Aggregate rating</th>\n",
       "      <th>Rating color</th>\n",
       "      <th>Rating text</th>\n",
       "      <th>Rating Count</th>\n",
       "    </tr>\n",
       "  </thead>\n",
       "  <tbody>\n",
       "    <tr>\n",
       "      <th>0</th>\n",
       "      <td>0.0</td>\n",
       "      <td>White</td>\n",
       "      <td>Not rated</td>\n",
       "      <td>2148</td>\n",
       "    </tr>\n",
       "    <tr>\n",
       "      <th>1</th>\n",
       "      <td>1.8</td>\n",
       "      <td>Red</td>\n",
       "      <td>Poor</td>\n",
       "      <td>1</td>\n",
       "    </tr>\n",
       "    <tr>\n",
       "      <th>2</th>\n",
       "      <td>1.9</td>\n",
       "      <td>Red</td>\n",
       "      <td>Poor</td>\n",
       "      <td>2</td>\n",
       "    </tr>\n",
       "    <tr>\n",
       "      <th>3</th>\n",
       "      <td>2.0</td>\n",
       "      <td>Red</td>\n",
       "      <td>Poor</td>\n",
       "      <td>7</td>\n",
       "    </tr>\n",
       "    <tr>\n",
       "      <th>4</th>\n",
       "      <td>2.1</td>\n",
       "      <td>Red</td>\n",
       "      <td>Poor</td>\n",
       "      <td>15</td>\n",
       "    </tr>\n",
       "  </tbody>\n",
       "</table>\n",
       "</div>"
      ],
      "text/plain": [
       "   Aggregate rating Rating color Rating text  Rating Count\n",
       "0               0.0        White   Not rated          2148\n",
       "1               1.8          Red        Poor             1\n",
       "2               1.9          Red        Poor             2\n",
       "3               2.0          Red        Poor             7\n",
       "4               2.1          Red        Poor            15"
      ]
     },
     "execution_count": 25,
     "metadata": {},
     "output_type": "execute_result"
    }
   ],
   "source": [
    "rating.head()"
   ]
  },
  {
   "cell_type": "code",
   "execution_count": 26,
   "id": "28e8f502",
   "metadata": {
    "execution": {
     "iopub.execute_input": "2023-02-09T18:35:50.878320Z",
     "iopub.status.busy": "2023-02-09T18:35:50.877443Z",
     "iopub.status.idle": "2023-02-09T18:35:51.294747Z",
     "shell.execute_reply": "2023-02-09T18:35:51.293401Z"
    },
    "papermill": {
     "duration": 0.441162,
     "end_time": "2023-02-09T18:35:51.297668",
     "exception": false,
     "start_time": "2023-02-09T18:35:50.856506",
     "status": "completed"
    },
    "tags": []
   },
   "outputs": [
    {
     "data": {
      "image/png": "[encoded data removed]",
      "text/plain": [
       "<Figure size 864x432 with 1 Axes>"
      ]
     },
     "metadata": {
      "needs_background": "light"
     },
     "output_type": "display_data"
    }
   ],
   "source": [
    "import matplotlib\n",
    "matplotlib.rcParams['figure.figsize']=(12,6)\n",
    "sns.barplot(x= 'Aggregate rating', y='Rating Count', data= rating);"
   ]
  },
  {
   "cell_type": "code",
   "execution_count": 27,
   "id": "9caeb12a",
   "metadata": {
    "execution": {
     "iopub.execute_input": "2023-02-09T18:35:51.337834Z",
     "iopub.status.busy": "2023-02-09T18:35:51.337314Z",
     "iopub.status.idle": "2023-02-09T18:35:53.130055Z",
     "shell.execute_reply": "2023-02-09T18:35:53.128289Z"
    },
    "papermill": {
     "duration": 1.815684,
     "end_time": "2023-02-09T18:35:53.133190",
     "exception": false,
     "start_time": "2023-02-09T18:35:51.317506",
     "status": "completed"
    },
    "tags": []
   },
   "outputs": [
    {
     "data": {
      "image/png": "[encoded data removed]",
      "text/plain": [
       "<Figure size 864x432 with 1 Axes>"
      ]
     },
     "metadata": {
      "needs_background": "light"
     },
     "output_type": "display_data"
    }
   ],
   "source": [
    "sns.barplot(x= 'Aggregate rating', y='Rating Count', data= rating, hue='Rating color');"
   ]
  },
  {
   "cell_type": "code",
   "execution_count": 28,
   "id": "76424976",
   "metadata": {
    "execution": {
     "iopub.execute_input": "2023-02-09T18:35:53.176200Z",
     "iopub.status.busy": "2023-02-09T18:35:53.175759Z",
     "iopub.status.idle": "2023-02-09T18:35:54.753943Z",
     "shell.execute_reply": "2023-02-09T18:35:54.752379Z"
    },
    "papermill": {
     "duration": 1.603373,
     "end_time": "2023-02-09T18:35:54.756828",
     "exception": false,
     "start_time": "2023-02-09T18:35:53.153455",
     "status": "completed"
    },
    "tags": []
   },
   "outputs": [
    {
     "data": {
      "image/png": "[encoded data removed]",
      "text/plain": [
       "<Figure size 864x432 with 1 Axes>"
      ]
     },
     "metadata": {
      "needs_background": "light"
     },
     "output_type": "display_data"
    }
   ],
   "source": [
    "sns.barplot(x= 'Aggregate rating', y='Rating Count', data= rating,hue='Rating color', palette=['white', 'yellow', 'green', 'orange','blue','black']);"
   ]
  },
  {
   "cell_type": "markdown",
   "id": "bffbcf42",
   "metadata": {
    "papermill": {
     "duration": 0.019957,
     "end_time": "2023-02-09T18:35:54.796862",
     "exception": false,
     "start_time": "2023-02-09T18:35:54.776905",
     "status": "completed"
    },
    "tags": []
   },
   "source": []
  },
  {
   "cell_type": "code",
   "execution_count": 29,
   "id": "b42bfe4c",
   "metadata": {
    "execution": {
     "iopub.execute_input": "2023-02-09T18:35:54.839816Z",
     "iopub.status.busy": "2023-02-09T18:35:54.839286Z",
     "iopub.status.idle": "2023-02-09T18:35:55.198980Z",
     "shell.execute_reply": "2023-02-09T18:35:55.197286Z"
    },
    "papermill": {
     "duration": 0.385101,
     "end_time": "2023-02-09T18:35:55.201940",
     "exception": false,
     "start_time": "2023-02-09T18:35:54.816839",
     "status": "completed"
    },
    "tags": []
   },
   "outputs": [
    {
     "data": {
      "image/png": "[encoded data removed]",
      "text/plain": [
       "<Figure size 864x432 with 1 Axes>"
      ]
     },
     "metadata": {
      "needs_background": "light"
     },
     "output_type": "display_data"
    }
   ],
   "source": [
    "sns.barplot(x= 'Aggregate rating', y='Rating color', data= rating, palette=['white', 'yellow', 'green', 'orange','blue','black']);"
   ]
  },
  {
   "cell_type": "markdown",
   "id": "505d8d6d",
   "metadata": {
    "papermill": {
     "duration": 0.019556,
     "end_time": "2023-02-09T18:35:55.242343",
     "exception": false,
     "start_time": "2023-02-09T18:35:55.222787",
     "status": "completed"
    },
    "tags": []
   },
   "source": [
    "### Observation: \n",
    "1- Not Rated count is very high<br>\n",
    "2- Maximum Number of rating are between 2.5 to 3.6"
   ]
  },
  {
   "cell_type": "code",
   "execution_count": 30,
   "id": "f62df536",
   "metadata": {
    "execution": {
     "iopub.execute_input": "2023-02-09T18:35:55.283081Z",
     "iopub.status.busy": "2023-02-09T18:35:55.282044Z",
     "iopub.status.idle": "2023-02-09T18:35:55.500134Z",
     "shell.execute_reply": "2023-02-09T18:35:55.498420Z"
    },
    "papermill": {
     "duration": 0.241354,
     "end_time": "2023-02-09T18:35:55.502819",
     "exception": false,
     "start_time": "2023-02-09T18:35:55.261465",
     "status": "completed"
    },
    "tags": []
   },
   "outputs": [
    {
     "data": {
      "text/plain": [
       "<AxesSubplot:xlabel='Rating color', ylabel='count'>"
      ]
     },
     "execution_count": 30,
     "metadata": {},
     "output_type": "execute_result"
    },
    {
     "data": {
      "image/png": "[encoded data removed]",
      "text/plain": [
       "<Figure size 864x432 with 1 Axes>"
      ]
     },
     "metadata": {
      "needs_background": "light"
     },
     "output_type": "display_data"
    }
   ],
   "source": [
    "## Countplot\n",
    "sns.countplot(x='Rating color', data= rating, palette= ['white', 'yellow', 'green', 'orange','blue','black'])"
   ]
  },
  {
   "cell_type": "code",
   "execution_count": 31,
   "id": "3e15b6f2",
   "metadata": {
    "execution": {
     "iopub.execute_input": "2023-02-09T18:35:55.547236Z",
     "iopub.status.busy": "2023-02-09T18:35:55.546762Z",
     "iopub.status.idle": "2023-02-09T18:35:55.565806Z",
     "shell.execute_reply": "2023-02-09T18:35:55.564159Z"
    },
    "papermill": {
     "duration": 0.045325,
     "end_time": "2023-02-09T18:35:55.568802",
     "exception": false,
     "start_time": "2023-02-09T18:35:55.523477",
     "status": "completed"
    },
    "tags": []
   },
   "outputs": [
    {
     "data": {
      "text/html": [
       "<div>\n",
       "<style scoped>\n",
       "    .dataframe tbody tr th:only-of-type {\n",
       "        vertical-align: middle;\n",
       "    }\n",
       "\n",
       "    .dataframe tbody tr th {\n",
       "        vertical-align: top;\n",
       "    }\n",
       "\n",
       "    .dataframe thead th {\n",
       "        text-align: right;\n",
       "    }\n",
       "</style>\n",
       "<table border=\"1\" class=\"dataframe\">\n",
       "  <thead>\n",
       "    <tr style=\"text-align: right;\">\n",
       "      <th></th>\n",
       "      <th>Aggregate rating</th>\n",
       "      <th>Rating color</th>\n",
       "      <th>Rating text</th>\n",
       "      <th>Rating Count</th>\n",
       "    </tr>\n",
       "  </thead>\n",
       "  <tbody>\n",
       "    <tr>\n",
       "      <th>0</th>\n",
       "      <td>0.0</td>\n",
       "      <td>White</td>\n",
       "      <td>Not rated</td>\n",
       "      <td>2148</td>\n",
       "    </tr>\n",
       "    <tr>\n",
       "      <th>1</th>\n",
       "      <td>1.8</td>\n",
       "      <td>Red</td>\n",
       "      <td>Poor</td>\n",
       "      <td>1</td>\n",
       "    </tr>\n",
       "    <tr>\n",
       "      <th>2</th>\n",
       "      <td>1.9</td>\n",
       "      <td>Red</td>\n",
       "      <td>Poor</td>\n",
       "      <td>2</td>\n",
       "    </tr>\n",
       "    <tr>\n",
       "      <th>3</th>\n",
       "      <td>2.0</td>\n",
       "      <td>Red</td>\n",
       "      <td>Poor</td>\n",
       "      <td>7</td>\n",
       "    </tr>\n",
       "    <tr>\n",
       "      <th>4</th>\n",
       "      <td>2.1</td>\n",
       "      <td>Red</td>\n",
       "      <td>Poor</td>\n",
       "      <td>15</td>\n",
       "    </tr>\n",
       "    <tr>\n",
       "      <th>5</th>\n",
       "      <td>2.2</td>\n",
       "      <td>Red</td>\n",
       "      <td>Poor</td>\n",
       "      <td>27</td>\n",
       "    </tr>\n",
       "    <tr>\n",
       "      <th>6</th>\n",
       "      <td>2.3</td>\n",
       "      <td>Red</td>\n",
       "      <td>Poor</td>\n",
       "      <td>47</td>\n",
       "    </tr>\n",
       "    <tr>\n",
       "      <th>7</th>\n",
       "      <td>2.4</td>\n",
       "      <td>Red</td>\n",
       "      <td>Poor</td>\n",
       "      <td>87</td>\n",
       "    </tr>\n",
       "    <tr>\n",
       "      <th>8</th>\n",
       "      <td>2.5</td>\n",
       "      <td>Orange</td>\n",
       "      <td>Average</td>\n",
       "      <td>110</td>\n",
       "    </tr>\n",
       "    <tr>\n",
       "      <th>9</th>\n",
       "      <td>2.6</td>\n",
       "      <td>Orange</td>\n",
       "      <td>Average</td>\n",
       "      <td>191</td>\n",
       "    </tr>\n",
       "    <tr>\n",
       "      <th>10</th>\n",
       "      <td>2.7</td>\n",
       "      <td>Orange</td>\n",
       "      <td>Average</td>\n",
       "      <td>250</td>\n",
       "    </tr>\n",
       "    <tr>\n",
       "      <th>11</th>\n",
       "      <td>2.8</td>\n",
       "      <td>Orange</td>\n",
       "      <td>Average</td>\n",
       "      <td>315</td>\n",
       "    </tr>\n",
       "    <tr>\n",
       "      <th>12</th>\n",
       "      <td>2.9</td>\n",
       "      <td>Orange</td>\n",
       "      <td>Average</td>\n",
       "      <td>381</td>\n",
       "    </tr>\n",
       "    <tr>\n",
       "      <th>13</th>\n",
       "      <td>3.0</td>\n",
       "      <td>Orange</td>\n",
       "      <td>Average</td>\n",
       "      <td>468</td>\n",
       "    </tr>\n",
       "    <tr>\n",
       "      <th>14</th>\n",
       "      <td>3.1</td>\n",
       "      <td>Orange</td>\n",
       "      <td>Average</td>\n",
       "      <td>519</td>\n",
       "    </tr>\n",
       "    <tr>\n",
       "      <th>15</th>\n",
       "      <td>3.2</td>\n",
       "      <td>Orange</td>\n",
       "      <td>Average</td>\n",
       "      <td>522</td>\n",
       "    </tr>\n",
       "    <tr>\n",
       "      <th>16</th>\n",
       "      <td>3.3</td>\n",
       "      <td>Orange</td>\n",
       "      <td>Average</td>\n",
       "      <td>483</td>\n",
       "    </tr>\n",
       "    <tr>\n",
       "      <th>17</th>\n",
       "      <td>3.4</td>\n",
       "      <td>Orange</td>\n",
       "      <td>Average</td>\n",
       "      <td>498</td>\n",
       "    </tr>\n",
       "    <tr>\n",
       "      <th>18</th>\n",
       "      <td>3.5</td>\n",
       "      <td>Yellow</td>\n",
       "      <td>Good</td>\n",
       "      <td>480</td>\n",
       "    </tr>\n",
       "    <tr>\n",
       "      <th>19</th>\n",
       "      <td>3.6</td>\n",
       "      <td>Yellow</td>\n",
       "      <td>Good</td>\n",
       "      <td>458</td>\n",
       "    </tr>\n",
       "    <tr>\n",
       "      <th>20</th>\n",
       "      <td>3.7</td>\n",
       "      <td>Yellow</td>\n",
       "      <td>Good</td>\n",
       "      <td>427</td>\n",
       "    </tr>\n",
       "    <tr>\n",
       "      <th>21</th>\n",
       "      <td>3.8</td>\n",
       "      <td>Yellow</td>\n",
       "      <td>Good</td>\n",
       "      <td>400</td>\n",
       "    </tr>\n",
       "    <tr>\n",
       "      <th>22</th>\n",
       "      <td>3.9</td>\n",
       "      <td>Yellow</td>\n",
       "      <td>Good</td>\n",
       "      <td>335</td>\n",
       "    </tr>\n",
       "    <tr>\n",
       "      <th>23</th>\n",
       "      <td>4.0</td>\n",
       "      <td>Green</td>\n",
       "      <td>Very Good</td>\n",
       "      <td>266</td>\n",
       "    </tr>\n",
       "    <tr>\n",
       "      <th>24</th>\n",
       "      <td>4.1</td>\n",
       "      <td>Green</td>\n",
       "      <td>Very Good</td>\n",
       "      <td>274</td>\n",
       "    </tr>\n",
       "    <tr>\n",
       "      <th>25</th>\n",
       "      <td>4.2</td>\n",
       "      <td>Green</td>\n",
       "      <td>Very Good</td>\n",
       "      <td>221</td>\n",
       "    </tr>\n",
       "    <tr>\n",
       "      <th>26</th>\n",
       "      <td>4.3</td>\n",
       "      <td>Green</td>\n",
       "      <td>Very Good</td>\n",
       "      <td>174</td>\n",
       "    </tr>\n",
       "    <tr>\n",
       "      <th>27</th>\n",
       "      <td>4.4</td>\n",
       "      <td>Green</td>\n",
       "      <td>Very Good</td>\n",
       "      <td>144</td>\n",
       "    </tr>\n",
       "    <tr>\n",
       "      <th>28</th>\n",
       "      <td>4.5</td>\n",
       "      <td>Dark Green</td>\n",
       "      <td>Excellent</td>\n",
       "      <td>95</td>\n",
       "    </tr>\n",
       "    <tr>\n",
       "      <th>29</th>\n",
       "      <td>4.6</td>\n",
       "      <td>Dark Green</td>\n",
       "      <td>Excellent</td>\n",
       "      <td>78</td>\n",
       "    </tr>\n",
       "    <tr>\n",
       "      <th>30</th>\n",
       "      <td>4.7</td>\n",
       "      <td>Dark Green</td>\n",
       "      <td>Excellent</td>\n",
       "      <td>42</td>\n",
       "    </tr>\n",
       "    <tr>\n",
       "      <th>31</th>\n",
       "      <td>4.8</td>\n",
       "      <td>Dark Green</td>\n",
       "      <td>Excellent</td>\n",
       "      <td>25</td>\n",
       "    </tr>\n",
       "    <tr>\n",
       "      <th>32</th>\n",
       "      <td>4.9</td>\n",
       "      <td>Dark Green</td>\n",
       "      <td>Excellent</td>\n",
       "      <td>61</td>\n",
       "    </tr>\n",
       "  </tbody>\n",
       "</table>\n",
       "</div>"
      ],
      "text/plain": [
       "    Aggregate rating Rating color Rating text  Rating Count\n",
       "0                0.0        White   Not rated          2148\n",
       "1                1.8          Red        Poor             1\n",
       "2                1.9          Red        Poor             2\n",
       "3                2.0          Red        Poor             7\n",
       "4                2.1          Red        Poor            15\n",
       "5                2.2          Red        Poor            27\n",
       "6                2.3          Red        Poor            47\n",
       "7                2.4          Red        Poor            87\n",
       "8                2.5       Orange     Average           110\n",
       "9                2.6       Orange     Average           191\n",
       "10               2.7       Orange     Average           250\n",
       "11               2.8       Orange     Average           315\n",
       "12               2.9       Orange     Average           381\n",
       "13               3.0       Orange     Average           468\n",
       "14               3.1       Orange     Average           519\n",
       "15               3.2       Orange     Average           522\n",
       "16               3.3       Orange     Average           483\n",
       "17               3.4       Orange     Average           498\n",
       "18               3.5       Yellow        Good           480\n",
       "19               3.6       Yellow        Good           458\n",
       "20               3.7       Yellow        Good           427\n",
       "21               3.8       Yellow        Good           400\n",
       "22               3.9       Yellow        Good           335\n",
       "23               4.0        Green   Very Good           266\n",
       "24               4.1        Green   Very Good           274\n",
       "25               4.2        Green   Very Good           221\n",
       "26               4.3        Green   Very Good           174\n",
       "27               4.4        Green   Very Good           144\n",
       "28               4.5   Dark Green   Excellent            95\n",
       "29               4.6   Dark Green   Excellent            78\n",
       "30               4.7   Dark Green   Excellent            42\n",
       "31               4.8   Dark Green   Excellent            25\n",
       "32               4.9   Dark Green   Excellent            61"
      ]
     },
     "execution_count": 31,
     "metadata": {},
     "output_type": "execute_result"
    }
   ],
   "source": [
    "rating"
   ]
  },
  {
   "cell_type": "markdown",
   "id": "abc3c5c8",
   "metadata": {
    "papermill": {
     "duration": 0.021096,
     "end_time": "2023-02-09T18:35:55.611384",
     "exception": false,
     "start_time": "2023-02-09T18:35:55.590288",
     "status": "completed"
    },
    "tags": []
   },
   "source": [
    "### Find country names that have given zero rating"
   ]
  },
  {
   "cell_type": "code",
   "execution_count": 32,
   "id": "f714e1ce",
   "metadata": {
    "execution": {
     "iopub.execute_input": "2023-02-09T18:35:55.655081Z",
     "iopub.status.busy": "2023-02-09T18:35:55.654620Z",
     "iopub.status.idle": "2023-02-09T18:35:55.663795Z",
     "shell.execute_reply": "2023-02-09T18:35:55.662486Z"
    },
    "papermill": {
     "duration": 0.034005,
     "end_time": "2023-02-09T18:35:55.666250",
     "exception": false,
     "start_time": "2023-02-09T18:35:55.632245",
     "status": "completed"
    },
    "tags": []
   },
   "outputs": [
    {
     "data": {
      "text/plain": [
       "Index(['Restaurant ID', 'Restaurant Name', 'Country Code', 'City', 'Address',\n",
       "       'Locality', 'Locality Verbose', 'Longitude', 'Latitude', 'Cuisines',\n",
       "       'Average Cost for two', 'Currency', 'Has Table booking',\n",
       "       'Has Online delivery', 'Is delivering now', 'Switch to order menu',\n",
       "       'Price range', 'Aggregate rating', 'Rating color', 'Rating text',\n",
       "       'Votes', 'Country'],\n",
       "      dtype='object')"
      ]
     },
     "execution_count": 32,
     "metadata": {},
     "output_type": "execute_result"
    }
   ],
   "source": [
    "Final_df.columns"
   ]
  },
  {
   "cell_type": "code",
   "execution_count": 33,
   "id": "6dcc98a3",
   "metadata": {
    "execution": {
     "iopub.execute_input": "2023-02-09T18:35:55.712957Z",
     "iopub.status.busy": "2023-02-09T18:35:55.712549Z",
     "iopub.status.idle": "2023-02-09T18:35:55.759331Z",
     "shell.execute_reply": "2023-02-09T18:35:55.757663Z"
    },
    "papermill": {
     "duration": 0.074339,
     "end_time": "2023-02-09T18:35:55.762672",
     "exception": false,
     "start_time": "2023-02-09T18:35:55.688333",
     "status": "completed"
    },
    "tags": []
   },
   "outputs": [
    {
     "data": {
      "text/html": [
       "<div>\n",
       "<style scoped>\n",
       "    .dataframe tbody tr th:only-of-type {\n",
       "        vertical-align: middle;\n",
       "    }\n",
       "\n",
       "    .dataframe tbody tr th {\n",
       "        vertical-align: top;\n",
       "    }\n",
       "\n",
       "    .dataframe thead th {\n",
       "        text-align: right;\n",
       "    }\n",
       "</style>\n",
       "<table border=\"1\" class=\"dataframe\">\n",
       "  <thead>\n",
       "    <tr style=\"text-align: right;\">\n",
       "      <th></th>\n",
       "      <th>Restaurant ID</th>\n",
       "      <th>Restaurant Name</th>\n",
       "      <th>Country Code</th>\n",
       "      <th>City</th>\n",
       "      <th>Address</th>\n",
       "      <th>Locality</th>\n",
       "      <th>Locality Verbose</th>\n",
       "      <th>Longitude</th>\n",
       "      <th>Latitude</th>\n",
       "      <th>Cuisines</th>\n",
       "      <th>...</th>\n",
       "      <th>Has Table booking</th>\n",
       "      <th>Has Online delivery</th>\n",
       "      <th>Is delivering now</th>\n",
       "      <th>Switch to order menu</th>\n",
       "      <th>Price range</th>\n",
       "      <th>Aggregate rating</th>\n",
       "      <th>Rating color</th>\n",
       "      <th>Rating text</th>\n",
       "      <th>Votes</th>\n",
       "      <th>Country</th>\n",
       "    </tr>\n",
       "  </thead>\n",
       "  <tbody>\n",
       "    <tr>\n",
       "      <th>30</th>\n",
       "      <td>6600060</td>\n",
       "      <td>Sandubas Cafí©</td>\n",
       "      <td>30</td>\n",
       "      <td>Brasí_lia</td>\n",
       "      <td>Edifí_cio Josí© Severo, SCS 6, Bloco A, Loja 9...</td>\n",
       "      <td>Asa Sul</td>\n",
       "      <td>Asa Sul, Brasí_lia</td>\n",
       "      <td>-47.890167</td>\n",
       "      <td>-15.797000</td>\n",
       "      <td>Brazilian, Cafe</td>\n",
       "      <td>...</td>\n",
       "      <td>No</td>\n",
       "      <td>No</td>\n",
       "      <td>No</td>\n",
       "      <td>No</td>\n",
       "      <td>1</td>\n",
       "      <td>0.0</td>\n",
       "      <td>White</td>\n",
       "      <td>Not rated</td>\n",
       "      <td>2</td>\n",
       "      <td>Brazil</td>\n",
       "    </tr>\n",
       "    <tr>\n",
       "      <th>58</th>\n",
       "      <td>7305048</td>\n",
       "      <td>Quiosque Chopp Brahma</td>\n",
       "      <td>30</td>\n",
       "      <td>Rio de Janeiro</td>\n",
       "      <td>Madureira Shopping - Loja 289/290, Piso 2, Est...</td>\n",
       "      <td>Madureira</td>\n",
       "      <td>Madureira, Rio de Janeiro</td>\n",
       "      <td>-43.341164</td>\n",
       "      <td>-22.870413</td>\n",
       "      <td>Bar Food, Brazilian</td>\n",
       "      <td>...</td>\n",
       "      <td>No</td>\n",
       "      <td>No</td>\n",
       "      <td>No</td>\n",
       "      <td>No</td>\n",
       "      <td>3</td>\n",
       "      <td>0.0</td>\n",
       "      <td>White</td>\n",
       "      <td>Not rated</td>\n",
       "      <td>1</td>\n",
       "      <td>Brazil</td>\n",
       "    </tr>\n",
       "    <tr>\n",
       "      <th>69</th>\n",
       "      <td>6710645</td>\n",
       "      <td>Cantinho da Gula</td>\n",
       "      <td>30</td>\n",
       "      <td>Sí£o Paulo</td>\n",
       "      <td>Rua Pedroso Alvarenga, 522, Itaim Bibi, Sí£o P...</td>\n",
       "      <td>Itaim Bibi</td>\n",
       "      <td>Itaim Bibi, Sí£o Paulo</td>\n",
       "      <td>-46.675667</td>\n",
       "      <td>-23.581000</td>\n",
       "      <td>Brazilian</td>\n",
       "      <td>...</td>\n",
       "      <td>No</td>\n",
       "      <td>No</td>\n",
       "      <td>No</td>\n",
       "      <td>No</td>\n",
       "      <td>2</td>\n",
       "      <td>0.0</td>\n",
       "      <td>White</td>\n",
       "      <td>Not rated</td>\n",
       "      <td>0</td>\n",
       "      <td>Brazil</td>\n",
       "    </tr>\n",
       "    <tr>\n",
       "      <th>77</th>\n",
       "      <td>6701419</td>\n",
       "      <td>Divino Fogí£o</td>\n",
       "      <td>30</td>\n",
       "      <td>Sí£o Paulo</td>\n",
       "      <td>Shopping MetríÇ Santa Cruz - Piso L2, Rua Domi...</td>\n",
       "      <td>Shopping MetríÇ Santa Cruz, Vila Mariana</td>\n",
       "      <td>Shopping MetríÇ Santa Cruz, Vila Mariana, Sí£o...</td>\n",
       "      <td>-46.637167</td>\n",
       "      <td>-23.599500</td>\n",
       "      <td>Brazilian, Mineira</td>\n",
       "      <td>...</td>\n",
       "      <td>No</td>\n",
       "      <td>No</td>\n",
       "      <td>No</td>\n",
       "      <td>No</td>\n",
       "      <td>3</td>\n",
       "      <td>0.0</td>\n",
       "      <td>White</td>\n",
       "      <td>Not rated</td>\n",
       "      <td>2</td>\n",
       "      <td>Brazil</td>\n",
       "    </tr>\n",
       "    <tr>\n",
       "      <th>78</th>\n",
       "      <td>6703956</td>\n",
       "      <td>Super Grill</td>\n",
       "      <td>30</td>\n",
       "      <td>Sí£o Paulo</td>\n",
       "      <td>Shopping Morumbi - Piso Lazer, Avenida Roque P...</td>\n",
       "      <td>Shopping Morumbi, Santo Amaro</td>\n",
       "      <td>Shopping Morumbi, Santo Amaro, Sí£o Paulo</td>\n",
       "      <td>-46.698574</td>\n",
       "      <td>-23.622925</td>\n",
       "      <td>Brazilian</td>\n",
       "      <td>...</td>\n",
       "      <td>No</td>\n",
       "      <td>No</td>\n",
       "      <td>No</td>\n",
       "      <td>No</td>\n",
       "      <td>2</td>\n",
       "      <td>0.0</td>\n",
       "      <td>White</td>\n",
       "      <td>Not rated</td>\n",
       "      <td>2</td>\n",
       "      <td>Brazil</td>\n",
       "    </tr>\n",
       "    <tr>\n",
       "      <th>...</th>\n",
       "      <td>...</td>\n",
       "      <td>...</td>\n",
       "      <td>...</td>\n",
       "      <td>...</td>\n",
       "      <td>...</td>\n",
       "      <td>...</td>\n",
       "      <td>...</td>\n",
       "      <td>...</td>\n",
       "      <td>...</td>\n",
       "      <td>...</td>\n",
       "      <td>...</td>\n",
       "      <td>...</td>\n",
       "      <td>...</td>\n",
       "      <td>...</td>\n",
       "      <td>...</td>\n",
       "      <td>...</td>\n",
       "      <td>...</td>\n",
       "      <td>...</td>\n",
       "      <td>...</td>\n",
       "      <td>...</td>\n",
       "      <td>...</td>\n",
       "    </tr>\n",
       "    <tr>\n",
       "      <th>9109</th>\n",
       "      <td>18277023</td>\n",
       "      <td>Bread &amp; Pasta</td>\n",
       "      <td>1</td>\n",
       "      <td>Noida</td>\n",
       "      <td>Shop 15, Near HDFC Bank, Tulip Mall, Sector 48...</td>\n",
       "      <td>Tulip Mall, Sector 48, Noida</td>\n",
       "      <td>Tulip Mall, Sector 48, Noida, Noida</td>\n",
       "      <td>77.367303</td>\n",
       "      <td>28.557929</td>\n",
       "      <td>Fast Food</td>\n",
       "      <td>...</td>\n",
       "      <td>No</td>\n",
       "      <td>No</td>\n",
       "      <td>No</td>\n",
       "      <td>No</td>\n",
       "      <td>1</td>\n",
       "      <td>0.0</td>\n",
       "      <td>White</td>\n",
       "      <td>Not rated</td>\n",
       "      <td>1</td>\n",
       "      <td>India</td>\n",
       "    </tr>\n",
       "    <tr>\n",
       "      <th>9110</th>\n",
       "      <td>18313203</td>\n",
       "      <td>Chillies Cafe</td>\n",
       "      <td>1</td>\n",
       "      <td>Noida</td>\n",
       "      <td>G-11, Tulip Mall, Sector 48, Noida</td>\n",
       "      <td>Tulip Mall, Sector 48, Noida</td>\n",
       "      <td>Tulip Mall, Sector 48, Noida, Noida</td>\n",
       "      <td>77.367188</td>\n",
       "      <td>28.557842</td>\n",
       "      <td>Fast Food</td>\n",
       "      <td>...</td>\n",
       "      <td>No</td>\n",
       "      <td>No</td>\n",
       "      <td>No</td>\n",
       "      <td>No</td>\n",
       "      <td>2</td>\n",
       "      <td>0.0</td>\n",
       "      <td>White</td>\n",
       "      <td>Not rated</td>\n",
       "      <td>3</td>\n",
       "      <td>India</td>\n",
       "    </tr>\n",
       "    <tr>\n",
       "      <th>9111</th>\n",
       "      <td>18254559</td>\n",
       "      <td>Platters</td>\n",
       "      <td>1</td>\n",
       "      <td>Noida</td>\n",
       "      <td>Shop 1, Tulip Mall, Near HDFC Bank, Sector 48,...</td>\n",
       "      <td>Tulip Mall, Sector 48, Noida</td>\n",
       "      <td>Tulip Mall, Sector 48, Noida, Noida</td>\n",
       "      <td>77.367322</td>\n",
       "      <td>28.557930</td>\n",
       "      <td>North Indian, Chinese</td>\n",
       "      <td>...</td>\n",
       "      <td>No</td>\n",
       "      <td>No</td>\n",
       "      <td>No</td>\n",
       "      <td>No</td>\n",
       "      <td>2</td>\n",
       "      <td>0.0</td>\n",
       "      <td>White</td>\n",
       "      <td>Not rated</td>\n",
       "      <td>0</td>\n",
       "      <td>India</td>\n",
       "    </tr>\n",
       "    <tr>\n",
       "      <th>9112</th>\n",
       "      <td>18255132</td>\n",
       "      <td>The Grand</td>\n",
       "      <td>1</td>\n",
       "      <td>Noida</td>\n",
       "      <td>G-5, Tulip Mall, Sector 48, Noida</td>\n",
       "      <td>Tulip Mall, Sector 48, Noida</td>\n",
       "      <td>Tulip Mall, Sector 48, Noida, Noida</td>\n",
       "      <td>77.367188</td>\n",
       "      <td>28.557852</td>\n",
       "      <td>Raw Meats, Fast Food</td>\n",
       "      <td>...</td>\n",
       "      <td>No</td>\n",
       "      <td>No</td>\n",
       "      <td>No</td>\n",
       "      <td>No</td>\n",
       "      <td>1</td>\n",
       "      <td>0.0</td>\n",
       "      <td>White</td>\n",
       "      <td>Not rated</td>\n",
       "      <td>1</td>\n",
       "      <td>India</td>\n",
       "    </tr>\n",
       "    <tr>\n",
       "      <th>9351</th>\n",
       "      <td>18273002</td>\n",
       "      <td>Damascena Coffee House</td>\n",
       "      <td>215</td>\n",
       "      <td>Birmingham</td>\n",
       "      <td>133 Alcester Road, Moseley, Birmingham</td>\n",
       "      <td>Moseley</td>\n",
       "      <td>Moseley, Birmingham</td>\n",
       "      <td>-1.888555</td>\n",
       "      <td>52.446302</td>\n",
       "      <td>Greek, Mediterranean, Middle Eastern</td>\n",
       "      <td>...</td>\n",
       "      <td>No</td>\n",
       "      <td>No</td>\n",
       "      <td>No</td>\n",
       "      <td>No</td>\n",
       "      <td>2</td>\n",
       "      <td>0.0</td>\n",
       "      <td>White</td>\n",
       "      <td>Not rated</td>\n",
       "      <td>3</td>\n",
       "      <td>United Kingdom</td>\n",
       "    </tr>\n",
       "  </tbody>\n",
       "</table>\n",
       "<p>2148 rows × 22 columns</p>\n",
       "</div>"
      ],
      "text/plain": [
       "      Restaurant ID         Restaurant Name  Country Code            City  \\\n",
       "30          6600060          Sandubas Cafí©            30       Brasí_lia   \n",
       "58          7305048   Quiosque Chopp Brahma            30  Rio de Janeiro   \n",
       "69          6710645        Cantinho da Gula            30      Sí£o Paulo   \n",
       "77          6701419           Divino Fogí£o            30      Sí£o Paulo   \n",
       "78          6703956             Super Grill            30      Sí£o Paulo   \n",
       "...             ...                     ...           ...             ...   \n",
       "9109       18277023           Bread & Pasta             1           Noida   \n",
       "9110       18313203           Chillies Cafe             1           Noida   \n",
       "9111       18254559                Platters             1           Noida   \n",
       "9112       18255132               The Grand             1           Noida   \n",
       "9351       18273002  Damascena Coffee House           215      Birmingham   \n",
       "\n",
       "                                                Address  \\\n",
       "30    Edifí_cio Josí© Severo, SCS 6, Bloco A, Loja 9...   \n",
       "58    Madureira Shopping - Loja 289/290, Piso 2, Est...   \n",
       "69    Rua Pedroso Alvarenga, 522, Itaim Bibi, Sí£o P...   \n",
       "77    Shopping MetríÇ Santa Cruz - Piso L2, Rua Domi...   \n",
       "78    Shopping Morumbi - Piso Lazer, Avenida Roque P...   \n",
       "...                                                 ...   \n",
       "9109  Shop 15, Near HDFC Bank, Tulip Mall, Sector 48...   \n",
       "9110                 G-11, Tulip Mall, Sector 48, Noida   \n",
       "9111  Shop 1, Tulip Mall, Near HDFC Bank, Sector 48,...   \n",
       "9112                  G-5, Tulip Mall, Sector 48, Noida   \n",
       "9351             133 Alcester Road, Moseley, Birmingham   \n",
       "\n",
       "                                      Locality  \\\n",
       "30                                     Asa Sul   \n",
       "58                                   Madureira   \n",
       "69                                  Itaim Bibi   \n",
       "77    Shopping MetríÇ Santa Cruz, Vila Mariana   \n",
       "78               Shopping Morumbi, Santo Amaro   \n",
       "...                                        ...   \n",
       "9109              Tulip Mall, Sector 48, Noida   \n",
       "9110              Tulip Mall, Sector 48, Noida   \n",
       "9111              Tulip Mall, Sector 48, Noida   \n",
       "9112              Tulip Mall, Sector 48, Noida   \n",
       "9351                                   Moseley   \n",
       "\n",
       "                                       Locality Verbose  Longitude   Latitude  \\\n",
       "30                                   Asa Sul, Brasí_lia -47.890167 -15.797000   \n",
       "58                            Madureira, Rio de Janeiro -43.341164 -22.870413   \n",
       "69                               Itaim Bibi, Sí£o Paulo -46.675667 -23.581000   \n",
       "77    Shopping MetríÇ Santa Cruz, Vila Mariana, Sí£o... -46.637167 -23.599500   \n",
       "78            Shopping Morumbi, Santo Amaro, Sí£o Paulo -46.698574 -23.622925   \n",
       "...                                                 ...        ...        ...   \n",
       "9109                Tulip Mall, Sector 48, Noida, Noida  77.367303  28.557929   \n",
       "9110                Tulip Mall, Sector 48, Noida, Noida  77.367188  28.557842   \n",
       "9111                Tulip Mall, Sector 48, Noida, Noida  77.367322  28.557930   \n",
       "9112                Tulip Mall, Sector 48, Noida, Noida  77.367188  28.557852   \n",
       "9351                                Moseley, Birmingham  -1.888555  52.446302   \n",
       "\n",
       "                                  Cuisines  ...  Has Table booking  \\\n",
       "30                         Brazilian, Cafe  ...                 No   \n",
       "58                     Bar Food, Brazilian  ...                 No   \n",
       "69                               Brazilian  ...                 No   \n",
       "77                      Brazilian, Mineira  ...                 No   \n",
       "78                               Brazilian  ...                 No   \n",
       "...                                    ...  ...                ...   \n",
       "9109                             Fast Food  ...                 No   \n",
       "9110                             Fast Food  ...                 No   \n",
       "9111                 North Indian, Chinese  ...                 No   \n",
       "9112                  Raw Meats, Fast Food  ...                 No   \n",
       "9351  Greek, Mediterranean, Middle Eastern  ...                 No   \n",
       "\n",
       "     Has Online delivery Is delivering now Switch to order menu Price range  \\\n",
       "30                    No                No                   No           1   \n",
       "58                    No                No                   No           3   \n",
       "69                    No                No                   No           2   \n",
       "77                    No                No                   No           3   \n",
       "78                    No                No                   No           2   \n",
       "...                  ...               ...                  ...         ...   \n",
       "9109                  No                No                   No           1   \n",
       "9110                  No                No                   No           2   \n",
       "9111                  No                No                   No           2   \n",
       "9112                  No                No                   No           1   \n",
       "9351                  No                No                   No           2   \n",
       "\n",
       "     Aggregate rating  Rating color  Rating text Votes         Country  \n",
       "30                0.0         White    Not rated     2          Brazil  \n",
       "58                0.0         White    Not rated     1          Brazil  \n",
       "69                0.0         White    Not rated     0          Brazil  \n",
       "77                0.0         White    Not rated     2          Brazil  \n",
       "78                0.0         White    Not rated     2          Brazil  \n",
       "...               ...           ...          ...   ...             ...  \n",
       "9109              0.0         White    Not rated     1           India  \n",
       "9110              0.0         White    Not rated     3           India  \n",
       "9111              0.0         White    Not rated     0           India  \n",
       "9112              0.0         White    Not rated     1           India  \n",
       "9351              0.0         White    Not rated     3  United Kingdom  \n",
       "\n",
       "[2148 rows x 22 columns]"
      ]
     },
     "execution_count": 33,
     "metadata": {},
     "output_type": "execute_result"
    }
   ],
   "source": [
    "Final_df[Final_df['Rating color']== 'White']"
   ]
  },
  {
   "cell_type": "code",
   "execution_count": 34,
   "id": "08b6ccaa",
   "metadata": {
    "execution": {
     "iopub.execute_input": "2023-02-09T18:35:55.813721Z",
     "iopub.status.busy": "2023-02-09T18:35:55.813313Z",
     "iopub.status.idle": "2023-02-09T18:35:55.836843Z",
     "shell.execute_reply": "2023-02-09T18:35:55.835430Z"
    },
    "papermill": {
     "duration": 0.053661,
     "end_time": "2023-02-09T18:35:55.839591",
     "exception": false,
     "start_time": "2023-02-09T18:35:55.785930",
     "status": "completed"
    },
    "tags": []
   },
   "outputs": [
    {
     "data": {
      "text/html": [
       "<div>\n",
       "<style scoped>\n",
       "    .dataframe tbody tr th:only-of-type {\n",
       "        vertical-align: middle;\n",
       "    }\n",
       "\n",
       "    .dataframe tbody tr th {\n",
       "        vertical-align: top;\n",
       "    }\n",
       "\n",
       "    .dataframe thead th {\n",
       "        text-align: right;\n",
       "    }\n",
       "</style>\n",
       "<table border=\"1\" class=\"dataframe\">\n",
       "  <thead>\n",
       "    <tr style=\"text-align: right;\">\n",
       "      <th></th>\n",
       "      <th>Aggregate rating</th>\n",
       "      <th>Country</th>\n",
       "      <th>0</th>\n",
       "    </tr>\n",
       "  </thead>\n",
       "  <tbody>\n",
       "    <tr>\n",
       "      <th>0</th>\n",
       "      <td>0.0</td>\n",
       "      <td>Brazil</td>\n",
       "      <td>5</td>\n",
       "    </tr>\n",
       "    <tr>\n",
       "      <th>1</th>\n",
       "      <td>0.0</td>\n",
       "      <td>India</td>\n",
       "      <td>2139</td>\n",
       "    </tr>\n",
       "    <tr>\n",
       "      <th>2</th>\n",
       "      <td>0.0</td>\n",
       "      <td>United Kingdom</td>\n",
       "      <td>1</td>\n",
       "    </tr>\n",
       "    <tr>\n",
       "      <th>3</th>\n",
       "      <td>0.0</td>\n",
       "      <td>United States</td>\n",
       "      <td>3</td>\n",
       "    </tr>\n",
       "  </tbody>\n",
       "</table>\n",
       "</div>"
      ],
      "text/plain": [
       "   Aggregate rating         Country     0\n",
       "0               0.0          Brazil     5\n",
       "1               0.0           India  2139\n",
       "2               0.0  United Kingdom     1\n",
       "3               0.0   United States     3"
      ]
     },
     "execution_count": 34,
     "metadata": {},
     "output_type": "execute_result"
    }
   ],
   "source": [
    "Final_df[Final_df['Rating color']== 'White'].groupby(['Aggregate rating','Country']).size().reset_index()"
   ]
  },
  {
   "cell_type": "markdown",
   "id": "e512cec8",
   "metadata": {
    "papermill": {
     "duration": 0.021914,
     "end_time": "2023-02-09T18:35:55.884009",
     "exception": false,
     "start_time": "2023-02-09T18:35:55.862095",
     "status": "completed"
    },
    "tags": []
   },
   "source": [
    "## Observation:\n",
    "Maximum number of 0 ratings are from India customers"
   ]
  },
  {
   "cell_type": "code",
   "execution_count": 35,
   "id": "e8d69355",
   "metadata": {
    "execution": {
     "iopub.execute_input": "2023-02-09T18:35:55.930770Z",
     "iopub.status.busy": "2023-02-09T18:35:55.930370Z",
     "iopub.status.idle": "2023-02-09T18:35:55.938191Z",
     "shell.execute_reply": "2023-02-09T18:35:55.936712Z"
    },
    "papermill": {
     "duration": 0.03461,
     "end_time": "2023-02-09T18:35:55.940862",
     "exception": false,
     "start_time": "2023-02-09T18:35:55.906252",
     "status": "completed"
    },
    "tags": []
   },
   "outputs": [
    {
     "data": {
      "text/plain": [
       "Index(['Restaurant ID', 'Restaurant Name', 'Country Code', 'City', 'Address',\n",
       "       'Locality', 'Locality Verbose', 'Longitude', 'Latitude', 'Cuisines',\n",
       "       'Average Cost for two', 'Currency', 'Has Table booking',\n",
       "       'Has Online delivery', 'Is delivering now', 'Switch to order menu',\n",
       "       'Price range', 'Aggregate rating', 'Rating color', 'Rating text',\n",
       "       'Votes', 'Country'],\n",
       "      dtype='object')"
      ]
     },
     "execution_count": 35,
     "metadata": {},
     "output_type": "execute_result"
    }
   ],
   "source": [
    "## find out which currency is used by which country\n",
    "Final_df.columns"
   ]
  },
  {
   "cell_type": "markdown",
   "id": "e60c3d15",
   "metadata": {
    "papermill": {
     "duration": 0.022006,
     "end_time": "2023-02-09T18:35:55.984213",
     "exception": false,
     "start_time": "2023-02-09T18:35:55.962207",
     "status": "completed"
    },
    "tags": []
   },
   "source": [
    "## find out which currency is used by which country"
   ]
  },
  {
   "cell_type": "code",
   "execution_count": 36,
   "id": "b89ce969",
   "metadata": {
    "execution": {
     "iopub.execute_input": "2023-02-09T18:35:56.030482Z",
     "iopub.status.busy": "2023-02-09T18:35:56.030061Z",
     "iopub.status.idle": "2023-02-09T18:35:56.049904Z",
     "shell.execute_reply": "2023-02-09T18:35:56.048560Z"
    },
    "papermill": {
     "duration": 0.046056,
     "end_time": "2023-02-09T18:35:56.052666",
     "exception": false,
     "start_time": "2023-02-09T18:35:56.006610",
     "status": "completed"
    },
    "tags": []
   },
   "outputs": [
    {
     "data": {
      "text/html": [
       "<div>\n",
       "<style scoped>\n",
       "    .dataframe tbody tr th:only-of-type {\n",
       "        vertical-align: middle;\n",
       "    }\n",
       "\n",
       "    .dataframe tbody tr th {\n",
       "        vertical-align: top;\n",
       "    }\n",
       "\n",
       "    .dataframe thead th {\n",
       "        text-align: right;\n",
       "    }\n",
       "</style>\n",
       "<table border=\"1\" class=\"dataframe\">\n",
       "  <thead>\n",
       "    <tr style=\"text-align: right;\">\n",
       "      <th></th>\n",
       "      <th>Country</th>\n",
       "      <th>Currency</th>\n",
       "      <th>0</th>\n",
       "    </tr>\n",
       "  </thead>\n",
       "  <tbody>\n",
       "    <tr>\n",
       "      <th>0</th>\n",
       "      <td>Australia</td>\n",
       "      <td>Dollar($)</td>\n",
       "      <td>24</td>\n",
       "    </tr>\n",
       "    <tr>\n",
       "      <th>1</th>\n",
       "      <td>Brazil</td>\n",
       "      <td>Brazilian Real(R$)</td>\n",
       "      <td>60</td>\n",
       "    </tr>\n",
       "    <tr>\n",
       "      <th>2</th>\n",
       "      <td>Canada</td>\n",
       "      <td>Dollar($)</td>\n",
       "      <td>4</td>\n",
       "    </tr>\n",
       "    <tr>\n",
       "      <th>3</th>\n",
       "      <td>India</td>\n",
       "      <td>Indian Rupees(Rs.)</td>\n",
       "      <td>8652</td>\n",
       "    </tr>\n",
       "    <tr>\n",
       "      <th>4</th>\n",
       "      <td>Indonesia</td>\n",
       "      <td>Indonesian Rupiah(IDR)</td>\n",
       "      <td>21</td>\n",
       "    </tr>\n",
       "    <tr>\n",
       "      <th>5</th>\n",
       "      <td>New Zealand</td>\n",
       "      <td>NewZealand($)</td>\n",
       "      <td>40</td>\n",
       "    </tr>\n",
       "    <tr>\n",
       "      <th>6</th>\n",
       "      <td>Phillipines</td>\n",
       "      <td>Botswana Pula(P)</td>\n",
       "      <td>22</td>\n",
       "    </tr>\n",
       "    <tr>\n",
       "      <th>7</th>\n",
       "      <td>Qatar</td>\n",
       "      <td>Qatari Rial(QR)</td>\n",
       "      <td>20</td>\n",
       "    </tr>\n",
       "    <tr>\n",
       "      <th>8</th>\n",
       "      <td>Singapore</td>\n",
       "      <td>Dollar($)</td>\n",
       "      <td>20</td>\n",
       "    </tr>\n",
       "    <tr>\n",
       "      <th>9</th>\n",
       "      <td>South Africa</td>\n",
       "      <td>Rand(R)</td>\n",
       "      <td>60</td>\n",
       "    </tr>\n",
       "    <tr>\n",
       "      <th>10</th>\n",
       "      <td>Sri Lanka</td>\n",
       "      <td>Sri Lankan Rupee(LKR)</td>\n",
       "      <td>20</td>\n",
       "    </tr>\n",
       "    <tr>\n",
       "      <th>11</th>\n",
       "      <td>Turkey</td>\n",
       "      <td>Turkish Lira(TL)</td>\n",
       "      <td>34</td>\n",
       "    </tr>\n",
       "    <tr>\n",
       "      <th>12</th>\n",
       "      <td>UAE</td>\n",
       "      <td>Emirati Diram(AED)</td>\n",
       "      <td>60</td>\n",
       "    </tr>\n",
       "    <tr>\n",
       "      <th>13</th>\n",
       "      <td>United Kingdom</td>\n",
       "      <td>Pounds(£)</td>\n",
       "      <td>80</td>\n",
       "    </tr>\n",
       "    <tr>\n",
       "      <th>14</th>\n",
       "      <td>United States</td>\n",
       "      <td>Dollar($)</td>\n",
       "      <td>434</td>\n",
       "    </tr>\n",
       "  </tbody>\n",
       "</table>\n",
       "</div>"
      ],
      "text/plain": [
       "           Country                Currency     0\n",
       "0        Australia               Dollar($)    24\n",
       "1           Brazil      Brazilian Real(R$)    60\n",
       "2           Canada               Dollar($)     4\n",
       "3            India      Indian Rupees(Rs.)  8652\n",
       "4        Indonesia  Indonesian Rupiah(IDR)    21\n",
       "5      New Zealand           NewZealand($)    40\n",
       "6      Phillipines        Botswana Pula(P)    22\n",
       "7            Qatar         Qatari Rial(QR)    20\n",
       "8        Singapore               Dollar($)    20\n",
       "9     South Africa                 Rand(R)    60\n",
       "10       Sri Lanka   Sri Lankan Rupee(LKR)    20\n",
       "11          Turkey        Turkish Lira(TL)    34\n",
       "12             UAE      Emirati Diram(AED)    60\n",
       "13  United Kingdom              Pounds(£)    80\n",
       "14   United States               Dollar($)   434"
      ]
     },
     "execution_count": 36,
     "metadata": {},
     "output_type": "execute_result"
    }
   ],
   "source": [
    "Final_df[['Country','Currency']].groupby(['Country','Currency']).size().reset_index()"
   ]
  },
  {
   "cell_type": "markdown",
   "id": "764de243",
   "metadata": {
    "execution": {
     "iopub.execute_input": "2023-02-07T16:15:07.123013Z",
     "iopub.status.busy": "2023-02-07T16:15:07.122504Z",
     "iopub.status.idle": "2023-02-07T16:15:07.129528Z",
     "shell.execute_reply": "2023-02-07T16:15:07.128028Z",
     "shell.execute_reply.started": "2023-02-07T16:15:07.122978Z"
    },
    "papermill": {
     "duration": 0.022222,
     "end_time": "2023-02-09T18:35:56.096761",
     "exception": false,
     "start_time": "2023-02-09T18:35:56.074539",
     "status": "completed"
    },
    "tags": []
   },
   "source": [
    "## Which countries do have online deliveries"
   ]
  },
  {
   "cell_type": "code",
   "execution_count": 37,
   "id": "5864652e",
   "metadata": {
    "execution": {
     "iopub.execute_input": "2023-02-09T18:35:56.143649Z",
     "iopub.status.busy": "2023-02-09T18:35:56.143165Z",
     "iopub.status.idle": "2023-02-09T18:35:56.155774Z",
     "shell.execute_reply": "2023-02-09T18:35:56.154774Z"
    },
    "papermill": {
     "duration": 0.03996,
     "end_time": "2023-02-09T18:35:56.158595",
     "exception": false,
     "start_time": "2023-02-09T18:35:56.118635",
     "status": "completed"
    },
    "tags": []
   },
   "outputs": [
    {
     "data": {
      "text/plain": [
       "India    2423\n",
       "UAE        28\n",
       "Name: Country, dtype: int64"
      ]
     },
     "execution_count": 37,
     "metadata": {},
     "output_type": "execute_result"
    }
   ],
   "source": [
    "Final_df[Final_df['Has Online delivery']=='Yes'].Country.value_counts()"
   ]
  },
  {
   "cell_type": "code",
   "execution_count": 38,
   "id": "66f8659e",
   "metadata": {
    "execution": {
     "iopub.execute_input": "2023-02-09T18:35:56.205870Z",
     "iopub.status.busy": "2023-02-09T18:35:56.205415Z",
     "iopub.status.idle": "2023-02-09T18:35:56.225595Z",
     "shell.execute_reply": "2023-02-09T18:35:56.224385Z"
    },
    "papermill": {
     "duration": 0.047432,
     "end_time": "2023-02-09T18:35:56.228232",
     "exception": false,
     "start_time": "2023-02-09T18:35:56.180800",
     "status": "completed"
    },
    "tags": []
   },
   "outputs": [
    {
     "data": {
      "text/html": [
       "<div>\n",
       "<style scoped>\n",
       "    .dataframe tbody tr th:only-of-type {\n",
       "        vertical-align: middle;\n",
       "    }\n",
       "\n",
       "    .dataframe tbody tr th {\n",
       "        vertical-align: top;\n",
       "    }\n",
       "\n",
       "    .dataframe thead th {\n",
       "        text-align: right;\n",
       "    }\n",
       "</style>\n",
       "<table border=\"1\" class=\"dataframe\">\n",
       "  <thead>\n",
       "    <tr style=\"text-align: right;\">\n",
       "      <th></th>\n",
       "      <th>Has Online delivery</th>\n",
       "      <th>Country</th>\n",
       "      <th>0</th>\n",
       "    </tr>\n",
       "  </thead>\n",
       "  <tbody>\n",
       "    <tr>\n",
       "      <th>0</th>\n",
       "      <td>No</td>\n",
       "      <td>Australia</td>\n",
       "      <td>24</td>\n",
       "    </tr>\n",
       "    <tr>\n",
       "      <th>1</th>\n",
       "      <td>No</td>\n",
       "      <td>Brazil</td>\n",
       "      <td>60</td>\n",
       "    </tr>\n",
       "    <tr>\n",
       "      <th>2</th>\n",
       "      <td>No</td>\n",
       "      <td>Canada</td>\n",
       "      <td>4</td>\n",
       "    </tr>\n",
       "    <tr>\n",
       "      <th>3</th>\n",
       "      <td>No</td>\n",
       "      <td>India</td>\n",
       "      <td>6229</td>\n",
       "    </tr>\n",
       "    <tr>\n",
       "      <th>4</th>\n",
       "      <td>No</td>\n",
       "      <td>Indonesia</td>\n",
       "      <td>21</td>\n",
       "    </tr>\n",
       "    <tr>\n",
       "      <th>5</th>\n",
       "      <td>No</td>\n",
       "      <td>New Zealand</td>\n",
       "      <td>40</td>\n",
       "    </tr>\n",
       "    <tr>\n",
       "      <th>6</th>\n",
       "      <td>No</td>\n",
       "      <td>Phillipines</td>\n",
       "      <td>22</td>\n",
       "    </tr>\n",
       "    <tr>\n",
       "      <th>7</th>\n",
       "      <td>No</td>\n",
       "      <td>Qatar</td>\n",
       "      <td>20</td>\n",
       "    </tr>\n",
       "    <tr>\n",
       "      <th>8</th>\n",
       "      <td>No</td>\n",
       "      <td>Singapore</td>\n",
       "      <td>20</td>\n",
       "    </tr>\n",
       "    <tr>\n",
       "      <th>9</th>\n",
       "      <td>No</td>\n",
       "      <td>South Africa</td>\n",
       "      <td>60</td>\n",
       "    </tr>\n",
       "    <tr>\n",
       "      <th>10</th>\n",
       "      <td>No</td>\n",
       "      <td>Sri Lanka</td>\n",
       "      <td>20</td>\n",
       "    </tr>\n",
       "    <tr>\n",
       "      <th>11</th>\n",
       "      <td>No</td>\n",
       "      <td>Turkey</td>\n",
       "      <td>34</td>\n",
       "    </tr>\n",
       "    <tr>\n",
       "      <th>12</th>\n",
       "      <td>No</td>\n",
       "      <td>UAE</td>\n",
       "      <td>32</td>\n",
       "    </tr>\n",
       "    <tr>\n",
       "      <th>13</th>\n",
       "      <td>No</td>\n",
       "      <td>United Kingdom</td>\n",
       "      <td>80</td>\n",
       "    </tr>\n",
       "    <tr>\n",
       "      <th>14</th>\n",
       "      <td>No</td>\n",
       "      <td>United States</td>\n",
       "      <td>434</td>\n",
       "    </tr>\n",
       "    <tr>\n",
       "      <th>15</th>\n",
       "      <td>Yes</td>\n",
       "      <td>India</td>\n",
       "      <td>2423</td>\n",
       "    </tr>\n",
       "    <tr>\n",
       "      <th>16</th>\n",
       "      <td>Yes</td>\n",
       "      <td>UAE</td>\n",
       "      <td>28</td>\n",
       "    </tr>\n",
       "  </tbody>\n",
       "</table>\n",
       "</div>"
      ],
      "text/plain": [
       "   Has Online delivery         Country     0\n",
       "0                   No       Australia    24\n",
       "1                   No          Brazil    60\n",
       "2                   No          Canada     4\n",
       "3                   No           India  6229\n",
       "4                   No       Indonesia    21\n",
       "5                   No     New Zealand    40\n",
       "6                   No     Phillipines    22\n",
       "7                   No           Qatar    20\n",
       "8                   No       Singapore    20\n",
       "9                   No    South Africa    60\n",
       "10                  No       Sri Lanka    20\n",
       "11                  No          Turkey    34\n",
       "12                  No             UAE    32\n",
       "13                  No  United Kingdom    80\n",
       "14                  No   United States   434\n",
       "15                 Yes           India  2423\n",
       "16                 Yes             UAE    28"
      ]
     },
     "execution_count": 38,
     "metadata": {},
     "output_type": "execute_result"
    }
   ],
   "source": [
    "Final_df[['Has Online delivery', 'Country']].groupby(['Has Online delivery','Country']).size().reset_index()"
   ]
  },
  {
   "cell_type": "markdown",
   "id": "557b6d3b",
   "metadata": {
    "papermill": {
     "duration": 0.023986,
     "end_time": "2023-02-09T18:35:56.276814",
     "exception": false,
     "start_time": "2023-02-09T18:35:56.252828",
     "status": "completed"
    },
    "tags": []
   },
   "source": [
    "## Observation\n",
    "Online deliveries are available in India and UAE"
   ]
  },
  {
   "cell_type": "code",
   "execution_count": 39,
   "id": "36632b9b",
   "metadata": {
    "execution": {
     "iopub.execute_input": "2023-02-09T18:35:56.326481Z",
     "iopub.status.busy": "2023-02-09T18:35:56.325429Z",
     "iopub.status.idle": "2023-02-09T18:35:56.333896Z",
     "shell.execute_reply": "2023-02-09T18:35:56.332986Z"
    },
    "papermill": {
     "duration": 0.036092,
     "end_time": "2023-02-09T18:35:56.336531",
     "exception": false,
     "start_time": "2023-02-09T18:35:56.300439",
     "status": "completed"
    },
    "tags": []
   },
   "outputs": [],
   "source": [
    "## Create a pie chart for cities distribution\n",
    "city_values=Final_df.City.value_counts().values\n",
    "city_labels=Final_df.City.value_counts().values"
   ]
  },
  {
   "cell_type": "code",
   "execution_count": 40,
   "id": "9d6d7fe2",
   "metadata": {
    "execution": {
     "iopub.execute_input": "2023-02-09T18:35:56.383196Z",
     "iopub.status.busy": "2023-02-09T18:35:56.382046Z",
     "iopub.status.idle": "2023-02-09T18:35:56.521717Z",
     "shell.execute_reply": "2023-02-09T18:35:56.519670Z"
    },
    "papermill": {
     "duration": 0.167561,
     "end_time": "2023-02-09T18:35:56.526415",
     "exception": false,
     "start_time": "2023-02-09T18:35:56.358854",
     "status": "completed"
    },
    "tags": []
   },
   "outputs": [
    {
     "data": {
      "image/png": "[encoded data removed]",
      "text/plain": [
       "<Figure size 864x432 with 1 Axes>"
      ]
     },
     "metadata": {},
     "output_type": "display_data"
    }
   ],
   "source": [
    "plt.pie(city_values[:5],labels=city_labels[:5], autopct='%1.2f%%');"
   ]
  },
  {
   "cell_type": "code",
   "execution_count": null,
   "id": "e3fb6f55",
   "metadata": {
    "papermill": {
     "duration": 0.022494,
     "end_time": "2023-02-09T18:35:56.606155",
     "exception": false,
     "start_time": "2023-02-09T18:35:56.583661",
     "status": "completed"
    },
    "tags": []
   },
   "outputs": [],
   "source": []
  }
 ],
 "metadata": {
  "kernelspec": {
   "display_name": "Python 3 (ipykernel)",
   "language": "python",
   "name": "python3"
  },
  "language_info": {
   "codemirror_mode": {
    "name": "ipython",
    "version": 3
   },
   "file_extension": ".py",
   "mimetype": "text/x-python",
   "name": "python",
   "nbconvert_exporter": "python",
   "pygments_lexer": "ipython3",
   "version": "3.11.7"
  },
  "papermill": {
   "default_parameters": {},
   "duration": 20.715388,
   "end_time": "2023-02-09T18:35:57.754597",
   "environment_variables": {},
   "exception": null,
   "input_path": "__notebook__.ipynb",
   "output_path": "__notebook__.ipynb",
   "parameters": {},
   "start_time": "2023-02-09T18:35:37.039209",
   "version": "2.3.4"
  }
 },
 "nbformat": 4,
 "nbformat_minor": 5
}
